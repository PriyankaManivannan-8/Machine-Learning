{
 "cells": [
  {
   "cell_type": "markdown",
   "metadata": {},
   "source": [
    "#### Import the required libraries"
   ]
  },
  {
   "cell_type": "code",
   "execution_count": 340,
   "metadata": {},
   "outputs": [
    {
     "name": "stdout",
     "output_type": "stream",
     "text": [
      "Requirement already satisfied: mlxtend in c:\\users\\sutithi\\anaconda3\\lib\\site-packages (0.17.3)\n",
      "Requirement already satisfied: setuptools in c:\\users\\sutithi\\anaconda3\\lib\\site-packages (from mlxtend) (49.2.0.post20200714)\n",
      "Requirement already satisfied: matplotlib>=3.0.0 in c:\\users\\sutithi\\anaconda3\\lib\\site-packages (from mlxtend) (3.2.2)\n",
      "Requirement already satisfied: scipy>=1.2.1 in c:\\users\\sutithi\\anaconda3\\lib\\site-packages (from mlxtend) (1.5.0)\n",
      "Requirement already satisfied: pandas>=0.24.2 in c:\\users\\sutithi\\anaconda3\\lib\\site-packages (from mlxtend) (1.0.5)\n",
      "Requirement already satisfied: scikit-learn>=0.20.3 in c:\\users\\sutithi\\anaconda3\\lib\\site-packages (from mlxtend) (0.23.1)\n",
      "Requirement already satisfied: numpy>=1.16.2 in c:\\users\\sutithi\\anaconda3\\lib\\site-packages (from mlxtend) (1.18.5)\n",
      "Requirement already satisfied: joblib>=0.13.2 in c:\\users\\sutithi\\anaconda3\\lib\\site-packages (from mlxtend) (0.16.0)\n",
      "Requirement already satisfied: kiwisolver>=1.0.1 in c:\\users\\sutithi\\anaconda3\\lib\\site-packages (from matplotlib>=3.0.0->mlxtend) (1.2.0)\n",
      "Requirement already satisfied: pyparsing!=2.0.4,!=2.1.2,!=2.1.6,>=2.0.1 in c:\\users\\sutithi\\anaconda3\\lib\\site-packages (from matplotlib>=3.0.0->mlxtend) (2.4.7)\n",
      "Requirement already satisfied: python-dateutil>=2.1 in c:\\users\\sutithi\\anaconda3\\lib\\site-packages (from matplotlib>=3.0.0->mlxtend) (2.8.1)\n",
      "Requirement already satisfied: cycler>=0.10 in c:\\users\\sutithi\\anaconda3\\lib\\site-packages (from matplotlib>=3.0.0->mlxtend) (0.10.0)\n",
      "Requirement already satisfied: pytz>=2017.2 in c:\\users\\sutithi\\anaconda3\\lib\\site-packages (from pandas>=0.24.2->mlxtend) (2020.1)\n",
      "Requirement already satisfied: threadpoolctl>=2.0.0 in c:\\users\\sutithi\\anaconda3\\lib\\site-packages (from scikit-learn>=0.20.3->mlxtend) (2.1.0)\n",
      "Requirement already satisfied: six>=1.5 in c:\\users\\sutithi\\anaconda3\\lib\\site-packages (from python-dateutil>=2.1->matplotlib>=3.0.0->mlxtend) (1.15.0)\n"
     ]
    }
   ],
   "source": [
    "!pip3 install mlxtend"
   ]
  },
  {
   "cell_type": "code",
   "execution_count": 341,
   "metadata": {},
   "outputs": [],
   "source": [
    "# import 'Pandas' \n",
    "import pandas as pd \n",
    "\n",
    "# import 'Numpy' \n",
    "import numpy as np\n",
    "\n",
    "# import subpackage of Matplotlib\n",
    "import matplotlib.pyplot as plt\n",
    "\n",
    "# import 'Seaborn'\n",
    "import seaborn as sns\n",
    "\n",
    "# to suppress warnings \n",
    "from warnings import filterwarnings\n",
    "filterwarnings('ignore')\n",
    "\n",
    "# import train-test split \n",
    "from sklearn.model_selection import train_test_split\n",
    "\n",
    "# import function to perform linear regression using OLS\n",
    "import statsmodels.api as sm\n",
    "\n",
    "# 'metrics' from sklearn is used for evaluating the model performance\n",
    "from sklearn.metrics import mean_squared_error\n",
    "\n",
    "# import function to perform linear regression\n",
    "from sklearn.linear_model import LinearRegression\n",
    "\n",
    "# import StandardScaler to perform scaling\n",
    "from sklearn.preprocessing import StandardScaler \n",
    "\n",
    "# import SGDRegressor from sklearn to perform linear regression with stochastic gradient descent\n",
    "from sklearn.linear_model import SGDRegressor\n",
    "\n",
    "# import function for ridge regression\n",
    "from sklearn.linear_model import Ridge\n",
    "\n",
    "# import function for lasso regression\n",
    "from sklearn.linear_model import Lasso\n",
    "\n",
    "# import function for elastic net regression\n",
    "from sklearn.linear_model import ElasticNet\n",
    "\n",
    "# import function to perform GridSearchCV\n",
    "from sklearn.model_selection import GridSearchCV\n",
    "\n",
    "# import various functions from statsmodels\n",
    "import statsmodels\n",
    "import statsmodels.api as sm\n",
    "from statsmodels.graphics.gofplots import qqplot\n",
    "\n",
    "# import functions to perform feature selection\n",
    "from mlxtend.feature_selection import SequentialFeatureSelector as sfs\n",
    "from sklearn.feature_selection import RFE\n",
    "\n",
    "# import function to perform cross validation\n",
    "from sklearn.model_selection import cross_val_score\n",
    "\n",
    "# set the plot size using 'rcParams'\n",
    "# once the plot size is set using 'rcParams', it sets the size of all the forthcoming plots in the file\n",
    "# pass width and height in inches to 'figure.figsize' \n",
    "plt.rcParams['figure.figsize'] = [15,8]\n",
    "\n",
    "from sklearn.metrics import r2_score"
   ]
  },
  {
   "cell_type": "markdown",
   "metadata": {},
   "source": [
    "#### Read the data\n",
    "\n",
    "Load the csv file and print the first five observations."
   ]
  },
  {
   "cell_type": "code",
   "execution_count": 342,
   "metadata": {},
   "outputs": [
    {
     "data": {
      "text/html": [
       "<div>\n",
       "<style scoped>\n",
       "    .dataframe tbody tr th:only-of-type {\n",
       "        vertical-align: middle;\n",
       "    }\n",
       "\n",
       "    .dataframe tbody tr th {\n",
       "        vertical-align: top;\n",
       "    }\n",
       "\n",
       "    .dataframe thead th {\n",
       "        text-align: right;\n",
       "    }\n",
       "</style>\n",
       "<table border=\"1\" class=\"dataframe\">\n",
       "  <thead>\n",
       "    <tr style=\"text-align: right;\">\n",
       "      <th></th>\n",
       "      <th>Species</th>\n",
       "      <th>color</th>\n",
       "      <th>Width</th>\n",
       "      <th>V_length</th>\n",
       "      <th>D_length</th>\n",
       "      <th>C_length</th>\n",
       "      <th>Height</th>\n",
       "      <th>Weight</th>\n",
       "      <th>price</th>\n",
       "    </tr>\n",
       "  </thead>\n",
       "  <tbody>\n",
       "    <tr>\n",
       "      <th>0</th>\n",
       "      <td>Good</td>\n",
       "      <td>D</td>\n",
       "      <td>1.01</td>\n",
       "      <td>6.18</td>\n",
       "      <td>6.26</td>\n",
       "      <td>4.01</td>\n",
       "      <td>64.5</td>\n",
       "      <td>58.0</td>\n",
       "      <td>4606</td>\n",
       "    </tr>\n",
       "    <tr>\n",
       "      <th>1</th>\n",
       "      <td>Ideal</td>\n",
       "      <td>F</td>\n",
       "      <td>0.42</td>\n",
       "      <td>4.84</td>\n",
       "      <td>4.87</td>\n",
       "      <td>2.96</td>\n",
       "      <td>61.0</td>\n",
       "      <td>57.0</td>\n",
       "      <td>1031</td>\n",
       "    </tr>\n",
       "    <tr>\n",
       "      <th>2</th>\n",
       "      <td>Ideal</td>\n",
       "      <td>E</td>\n",
       "      <td>0.91</td>\n",
       "      <td>6.19</td>\n",
       "      <td>6.27</td>\n",
       "      <td>3.85</td>\n",
       "      <td>61.8</td>\n",
       "      <td>56.0</td>\n",
       "      <td>4160</td>\n",
       "    </tr>\n",
       "    <tr>\n",
       "      <th>3</th>\n",
       "      <td>Very Good</td>\n",
       "      <td>H</td>\n",
       "      <td>1.17</td>\n",
       "      <td>6.76</td>\n",
       "      <td>6.71</td>\n",
       "      <td>4.25</td>\n",
       "      <td>63.1</td>\n",
       "      <td>56.0</td>\n",
       "      <td>4652</td>\n",
       "    </tr>\n",
       "    <tr>\n",
       "      <th>4</th>\n",
       "      <td>Very Good</td>\n",
       "      <td>F</td>\n",
       "      <td>0.33</td>\n",
       "      <td>4.43</td>\n",
       "      <td>4.46</td>\n",
       "      <td>2.75</td>\n",
       "      <td>62.0</td>\n",
       "      <td>56.0</td>\n",
       "      <td>912</td>\n",
       "    </tr>\n",
       "  </tbody>\n",
       "</table>\n",
       "</div>"
      ],
      "text/plain": [
       "     Species color  Width  V_length  D_length  C_length  Height  Weight  price\n",
       "0       Good     D   1.01      6.18      6.26      4.01    64.5    58.0   4606\n",
       "1      Ideal     F   0.42      4.84      4.87      2.96    61.0    57.0   1031\n",
       "2      Ideal     E   0.91      6.19      6.27      3.85    61.8    56.0   4160\n",
       "3  Very Good     H   1.17      6.76      6.71      4.25    63.1    56.0   4652\n",
       "4  Very Good     F   0.33      4.43      4.46      2.75    62.0    56.0    912"
      ]
     },
     "execution_count": 342,
     "metadata": {},
     "output_type": "execute_result"
    }
   ],
   "source": [
    "# read the data\n",
    "df_fish = pd.read_csv(\"Fish_data.csv\")\n",
    "\n",
    "# display the first five rows of the data\n",
    "df_fish.head()"
   ]
  },
  {
   "cell_type": "markdown",
   "metadata": {},
   "source": [
    "Our objective is to predict the price of the diamond."
   ]
  },
  {
   "cell_type": "markdown",
   "metadata": {},
   "source": [
    "**The data definition is as follows:** <br>\n",
    "\n",
    "**Species:** Species of a fish\n",
    "\n",
    "**color**: Fish color\n",
    "\n",
    "**Width:** Diagonal width of a fish\n",
    "\n",
    "**V_length:** Vertical length of a fish\n",
    "\n",
    "**D_length:** Diagonal length of a fish\n",
    "\n",
    "**C_length:** Cross length of a fish\n",
    "\n",
    "**Height:** Height of a fish\n",
    "\n",
    "**Weight:** Weight of a fish (target/dependent variable)\n",
    "\n",
    "**price**: Price of a fish in US dollars (target/dependent variable)"
   ]
  },
  {
   "cell_type": "markdown",
   "metadata": {},
   "source": [
    "### Let's begin with some hands-on practice exercises"
   ]
  },
  {
   "cell_type": "code",
   "execution_count": 343,
   "metadata": {},
   "outputs": [
    {
     "data": {
      "text/plain": [
       "Index(['Species', 'color', 'Width', 'V_length', 'D_length', 'C_length',\n",
       "       'Height', 'Weight', 'price'],\n",
       "      dtype='object')"
      ]
     },
     "execution_count": 343,
     "metadata": {},
     "output_type": "execute_result"
    }
   ],
   "source": [
    "df_fish.columns"
   ]
  },
  {
   "cell_type": "code",
   "execution_count": 344,
   "metadata": {},
   "outputs": [
    {
     "data": {
      "image/png": "[encoded data removed]",
      "text/plain": [
       "<Figure size 1080x576 with 1 Axes>"
      ]
     },
     "metadata": {
      "needs_background": "light"
     },
     "output_type": "display_data"
    }
   ],
   "source": [
    "# plot histogram\n",
    "plt.hist(df_fish['Width'])\n",
    "\n",
    "# add plot title\n",
    "# set text size using 'fontsize'\n",
    "plt.title('Distribution of Width', fontsize = 15)\n",
    "\n",
    "# label x-axis\n",
    "# set text size to 15 using 'fontsize'\n",
    "plt.xlabel('Width', fontsize = 15)\n",
    "\n",
    "# label y-axis \n",
    "# set text size using 'fontsize'\n",
    "plt.ylabel('Frequency', fontsize = 15)\n",
    "\n",
    "# display the plot\n",
    "plt.show()"
   ]
  },
  {
   "cell_type": "code",
   "execution_count": 345,
   "metadata": {},
   "outputs": [
    {
     "data": {
      "image/png": "[encoded data removed]",
      "text/plain": [
       "<Figure size 1080x576 with 1 Axes>"
      ]
     },
     "metadata": {
      "needs_background": "light"
     },
     "output_type": "display_data"
    }
   ],
   "source": [
    "# plot histogram\n",
    "plt.hist(df_fish['V_length'])\n",
    "\n",
    "# add plot title\n",
    "# set text size using 'fontsize'\n",
    "plt.title('Distribution of V_length', fontsize = 15)\n",
    "\n",
    "# label x-axis\n",
    "# set text size to 15 using 'fontsize'\n",
    "plt.xlabel('V_length', fontsize = 15)\n",
    "\n",
    "# label y-axis \n",
    "# set text size using 'fontsize'\n",
    "plt.ylabel('Frequency', fontsize = 15)\n",
    "\n",
    "# display the plot\n",
    "plt.show()"
   ]
  },
  {
   "cell_type": "code",
   "execution_count": 346,
   "metadata": {},
   "outputs": [
    {
     "data": {
      "image/png": "[encoded data removed]",
      "text/plain": [
       "<Figure size 1080x576 with 1 Axes>"
      ]
     },
     "metadata": {
      "needs_background": "light"
     },
     "output_type": "display_data"
    }
   ],
   "source": [
    "# plot histogram\n",
    "plt.hist(df_fish['D_length'])\n",
    "\n",
    "# add plot title\n",
    "# set text size using 'fontsize'\n",
    "plt.title('Distribution of D_length', fontsize = 15)\n",
    "\n",
    "# label x-axis\n",
    "# set text size to 15 using 'fontsize'\n",
    "plt.xlabel('D_length', fontsize = 15)\n",
    "\n",
    "# label y-axis \n",
    "# set text size using 'fontsize'\n",
    "plt.ylabel('Frequency', fontsize = 15)\n",
    "\n",
    "# display the plot\n",
    "plt.show()"
   ]
  },
  {
   "cell_type": "code",
   "execution_count": 347,
   "metadata": {},
   "outputs": [
    {
     "data": {
      "image/png": "[encoded data removed]",
      "text/plain": [
       "<Figure size 1080x576 with 1 Axes>"
      ]
     },
     "metadata": {
      "needs_background": "light"
     },
     "output_type": "display_data"
    }
   ],
   "source": [
    "# plot histogram\n",
    "plt.hist(df_fish['C_length'])\n",
    "\n",
    "# add plot title\n",
    "# set text size using 'fontsize'\n",
    "plt.title('Distribution of C_length', fontsize = 15)\n",
    "\n",
    "# label x-axis\n",
    "# set text size to 15 using 'fontsize'\n",
    "plt.xlabel('C_length', fontsize = 15)\n",
    "\n",
    "# label y-axis \n",
    "# set text size using 'fontsize'\n",
    "plt.ylabel('Frequency', fontsize = 15)\n",
    "\n",
    "# display the plot\n",
    "plt.show()"
   ]
  },
  {
   "cell_type": "code",
   "execution_count": 348,
   "metadata": {},
   "outputs": [
    {
     "data": {
      "image/png": "[encoded data removed]",
      "text/plain": [
       "<Figure size 1080x576 with 1 Axes>"
      ]
     },
     "metadata": {
      "needs_background": "light"
     },
     "output_type": "display_data"
    }
   ],
   "source": [
    "# plot histogram\n",
    "plt.hist(df_fish['Height'])\n",
    "\n",
    "# add plot title\n",
    "# set text size using 'fontsize'\n",
    "plt.title('Distribution of Height', fontsize = 15)\n",
    "\n",
    "# label x-axis\n",
    "# set text size to 15 using 'fontsize'\n",
    "plt.xlabel('Volatile Height', fontsize = 15)\n",
    "\n",
    "# label y-axis \n",
    "# set text size using 'fontsize'\n",
    "plt.ylabel('Frequency', fontsize = 15)\n",
    "\n",
    "# display the plot\n",
    "plt.show()"
   ]
  },
  {
   "cell_type": "code",
   "execution_count": 349,
   "metadata": {},
   "outputs": [
    {
     "data": {
      "image/png": "[encoded data removed]",
      "text/plain": [
       "<Figure size 1080x576 with 1 Axes>"
      ]
     },
     "metadata": {
      "needs_background": "light"
     },
     "output_type": "display_data"
    }
   ],
   "source": [
    "# plot histogram\n",
    "plt.hist(df_fish['Weight'])\n",
    "\n",
    "# add plot title\n",
    "# set text size using 'fontsize'\n",
    "plt.title('Distribution of Weight', fontsize = 15)\n",
    "\n",
    "# label x-axis\n",
    "# set text size to 15 using 'fontsize'\n",
    "plt.xlabel('Weight', fontsize = 15)\n",
    "\n",
    "# label y-axis \n",
    "# set text size using 'fontsize'\n",
    "plt.ylabel('Frequency', fontsize = 15)\n",
    "\n",
    "# display the plot\n",
    "plt.show()"
   ]
  },
  {
   "cell_type": "code",
   "execution_count": 350,
   "metadata": {},
   "outputs": [
    {
     "data": {
      "image/png": "[encoded data removed]",
      "text/plain": [
       "<Figure size 1080x576 with 1 Axes>"
      ]
     },
     "metadata": {
      "needs_background": "light"
     },
     "output_type": "display_data"
    }
   ],
   "source": [
    "# plot histogram\n",
    "plt.hist(df_fish['price'])\n",
    "\n",
    "# add plot title\n",
    "# set text size using 'fontsize'\n",
    "plt.title('Distribution of price', fontsize = 15)\n",
    "\n",
    "# label x-axis\n",
    "# set text size to 15 using 'fontsize'\n",
    "plt.xlabel('price', fontsize = 15)\n",
    "\n",
    "# label y-axis \n",
    "# set text size using 'fontsize'\n",
    "plt.ylabel('Frequency', fontsize = 15)\n",
    "\n",
    "# display the plot\n",
    "plt.show()"
   ]
  },
  {
   "cell_type": "code",
   "execution_count": 351,
   "metadata": {},
   "outputs": [],
   "source": [
    "# consider the independent variables\n",
    "# select_dtypes: selects the variable having specified datatype\n",
    "# include: includes the variables with specified datatype\n",
    "# drop(): drops specified column(s)/row(s) from the dataframe\n",
    "# axis: specifies whether to drop labels from index or columns; use 1 for columns and 0 for index\n",
    "df_num = df_fish.select_dtypes(include=np.number).drop([\"price\"],axis=1)"
   ]
  },
  {
   "cell_type": "code",
   "execution_count": 352,
   "metadata": {},
   "outputs": [],
   "source": [
    "# initialize the standard scalar\n",
    "num_scaler = StandardScaler()\n",
    "\n",
    "# standardize all the columns of the dataframe 'df_num'\n",
    "num_scaled = num_scaler.fit_transform(df_num)\n",
    "\n",
    "# create a dataframe of scaled numerical variables\n",
    "# pass the reqired column names to the parameter, 'columns'\n",
    "df_num_scaled = pd.DataFrame(num_scaled, columns = df_num.columns)"
   ]
  },
  {
   "cell_type": "markdown",
   "metadata": {},
   "source": [
    "## Is the variable representing the diagonal length of a fish skewed? If yes, apply an appropriate technique to make the distribution less skewed"
   ]
  },
  {
   "cell_type": "code",
   "execution_count": 353,
   "metadata": {
    "scrolled": false
   },
   "outputs": [
    {
     "name": "stdout",
     "output_type": "stream",
     "text": [
      "Skewness:  0.4495441121781921\n"
     ]
    },
    {
     "data": {
      "image/png": "[encoded data removed]",
      "text/plain": [
       "<Figure size 1080x576 with 1 Axes>"
      ]
     },
     "metadata": {
      "needs_background": "light"
     },
     "output_type": "display_data"
    }
   ],
   "source": [
    "# set the plot size using figure()\n",
    "# pass width and height in inches to 'figsize' \n",
    "plt.figure(figsize = (15,8))\n",
    "\n",
    "# check the skewness of variable y by plotting distplot \n",
    "sns.distplot(df_fish['D_length'])\n",
    "\n",
    "# set plot and axes labels\n",
    "# set text size using 'fontsize'\n",
    "plt.title('Distribution of Diagonal Length of a Fish', fontsize = 15)\n",
    "plt.xlabel('Width of a Fish', fontsize = 15)\n",
    "plt.ylabel('Density', fontsize = 15)\n",
    "\n",
    "# check the skewness numerically\n",
    "# print the skewness of the variable \n",
    "print(\"Skewness: \", df_fish['D_length'].skew())"
   ]
  },
  {
   "cell_type": "markdown",
   "metadata": {},
   "source": [
    "Apply the log transformation to the variable 'y'."
   ]
  },
  {
   "cell_type": "code",
   "execution_count": 354,
   "metadata": {},
   "outputs": [
    {
     "name": "stdout",
     "output_type": "stream",
     "text": [
      "Skewness:  0.1626626172767051\n"
     ]
    }
   ],
   "source": [
    "# apply log transformation\n",
    "trans_D = np.log(df_fish['D_length'])\n",
    "\n",
    "# check the skewness numerically\n",
    "# print the skewness of the variable \n",
    "print(\"Skewness: \", trans_D.skew())"
   ]
  },
  {
   "cell_type": "markdown",
   "metadata": {},
   "source": [
    "The coefficient of skewness shows that the skewness of the variable is reduced."
   ]
  },
  {
   "cell_type": "markdown",
   "metadata": {},
   "source": [
    "## Check the skewness of all of the variable "
   ]
  },
  {
   "cell_type": "code",
   "execution_count": 355,
   "metadata": {},
   "outputs": [
    {
     "data": {
      "text/html": [
       "<div>\n",
       "<style scoped>\n",
       "    .dataframe tbody tr th:only-of-type {\n",
       "        vertical-align: middle;\n",
       "    }\n",
       "\n",
       "    .dataframe tbody tr th {\n",
       "        vertical-align: top;\n",
       "    }\n",
       "\n",
       "    .dataframe thead th {\n",
       "        text-align: right;\n",
       "    }\n",
       "</style>\n",
       "<table border=\"1\" class=\"dataframe\">\n",
       "  <thead>\n",
       "    <tr style=\"text-align: right;\">\n",
       "      <th></th>\n",
       "      <th>Width</th>\n",
       "      <th>V_length</th>\n",
       "      <th>D_length</th>\n",
       "      <th>C_length</th>\n",
       "      <th>Height</th>\n",
       "      <th>Weight</th>\n",
       "    </tr>\n",
       "  </thead>\n",
       "  <tbody>\n",
       "    <tr>\n",
       "      <th>count</th>\n",
       "      <td>1.796000e+03</td>\n",
       "      <td>1.796000e+03</td>\n",
       "      <td>1.796000e+03</td>\n",
       "      <td>1.796000e+03</td>\n",
       "      <td>1.796000e+03</td>\n",
       "      <td>1.796000e+03</td>\n",
       "    </tr>\n",
       "    <tr>\n",
       "      <th>mean</th>\n",
       "      <td>-7.267294e-17</td>\n",
       "      <td>-6.040624e-16</td>\n",
       "      <td>-4.114192e-16</td>\n",
       "      <td>3.706745e-16</td>\n",
       "      <td>7.811124e-16</td>\n",
       "      <td>-5.713074e-16</td>\n",
       "    </tr>\n",
       "    <tr>\n",
       "      <th>std</th>\n",
       "      <td>1.000279e+00</td>\n",
       "      <td>1.000279e+00</td>\n",
       "      <td>1.000279e+00</td>\n",
       "      <td>1.000279e+00</td>\n",
       "      <td>1.000279e+00</td>\n",
       "      <td>1.000279e+00</td>\n",
       "    </tr>\n",
       "    <tr>\n",
       "      <th>min</th>\n",
       "      <td>-1.173940e+00</td>\n",
       "      <td>-1.640109e+00</td>\n",
       "      <td>-1.638207e+00</td>\n",
       "      <td>-1.750986e+00</td>\n",
       "      <td>-5.012457e+00</td>\n",
       "      <td>-2.419720e+00</td>\n",
       "    </tr>\n",
       "    <tr>\n",
       "      <th>25%</th>\n",
       "      <td>-8.156812e-01</td>\n",
       "      <td>-8.930949e-01</td>\n",
       "      <td>-8.865350e-01</td>\n",
       "      <td>-8.980749e-01</td>\n",
       "      <td>-5.189587e-01</td>\n",
       "      <td>-6.309498e-01</td>\n",
       "    </tr>\n",
       "    <tr>\n",
       "      <th>50%</th>\n",
       "      <td>-1.834593e-01</td>\n",
       "      <td>-6.604404e-02</td>\n",
       "      <td>-5.857362e-02</td>\n",
       "      <td>-3.070720e-02</td>\n",
       "      <td>1.129395e-01</td>\n",
       "      <td>-1.837573e-01</td>\n",
       "    </tr>\n",
       "    <tr>\n",
       "      <th>75%</th>\n",
       "      <td>5.119847e-01</td>\n",
       "      <td>7.343277e-01</td>\n",
       "      <td>7.222680e-01</td>\n",
       "      <td>7.354676e-01</td>\n",
       "      <td>5.342050e-01</td>\n",
       "      <td>7.106278e-01</td>\n",
       "    </tr>\n",
       "    <tr>\n",
       "      <th>max</th>\n",
       "      <td>3.947057e+00</td>\n",
       "      <td>3.002048e+00</td>\n",
       "      <td>2.966066e+00</td>\n",
       "      <td>2.918343e+00</td>\n",
       "      <td>7.063820e+00</td>\n",
       "      <td>5.629746e+00</td>\n",
       "    </tr>\n",
       "  </tbody>\n",
       "</table>\n",
       "</div>"
      ],
      "text/plain": [
       "              Width      V_length      D_length      C_length        Height  \\\n",
       "count  1.796000e+03  1.796000e+03  1.796000e+03  1.796000e+03  1.796000e+03   \n",
       "mean  -7.267294e-17 -6.040624e-16 -4.114192e-16  3.706745e-16  7.811124e-16   \n",
       "std    1.000279e+00  1.000279e+00  1.000279e+00  1.000279e+00  1.000279e+00   \n",
       "min   -1.173940e+00 -1.640109e+00 -1.638207e+00 -1.750986e+00 -5.012457e+00   \n",
       "25%   -8.156812e-01 -8.930949e-01 -8.865350e-01 -8.980749e-01 -5.189587e-01   \n",
       "50%   -1.834593e-01 -6.604404e-02 -5.857362e-02 -3.070720e-02  1.129395e-01   \n",
       "75%    5.119847e-01  7.343277e-01  7.222680e-01  7.354676e-01  5.342050e-01   \n",
       "max    3.947057e+00  3.002048e+00  2.966066e+00  2.918343e+00  7.063820e+00   \n",
       "\n",
       "             Weight  \n",
       "count  1.796000e+03  \n",
       "mean  -5.713074e-16  \n",
       "std    1.000279e+00  \n",
       "min   -2.419720e+00  \n",
       "25%   -6.309498e-01  \n",
       "50%   -1.837573e-01  \n",
       "75%    7.106278e-01  \n",
       "max    5.629746e+00  "
      ]
     },
     "execution_count": 355,
     "metadata": {},
     "output_type": "execute_result"
    }
   ],
   "source": [
    "df_num_scaled.describe()"
   ]
  },
  {
   "cell_type": "code",
   "execution_count": 356,
   "metadata": {},
   "outputs": [
    {
     "name": "stdout",
     "output_type": "stream",
     "text": [
      "Skewness for %s is %d Width 1.1270013626419264\n",
      "Kurtosis for %s is %d Width 0.9294286474701865\n",
      "Skewness for %s is %d V_length 0.44789610361594484\n",
      "Kurtosis for %s is %d V_length -0.6962298381843364\n",
      "Skewness for %s is %d D_length 0.44954411217819357\n",
      "Kurtosis for %s is %d D_length -0.6966224112749781\n",
      "Skewness for %s is %d C_length 0.45181364453989653\n",
      "Kurtosis for %s is %d C_length -0.6863144602905016\n",
      "Skewness for %s is %d Height -0.028890553318822666\n",
      "Kurtosis for %s is %d Height 3.882689593973838\n",
      "Skewness for %s is %d Weight 0.6444557523635235\n",
      "Kurtosis for %s is %d Weight 0.9461951728109774\n"
     ]
    }
   ],
   "source": [
    "for i in range(df_num_scaled.shape[1]):\n",
    "    print('Skewness for %s is %d' , df_num_scaled.columns[i] , df_num_scaled.iloc[:,i].skew())\n",
    "    print('Kurtosis for %s is %d' , df_num_scaled.columns[i] , df_num_scaled.iloc[:,i].kurtosis())"
   ]
  },
  {
   "cell_type": "code",
   "execution_count": 357,
   "metadata": {},
   "outputs": [
    {
     "data": {
      "text/plain": [
       "Index(['Width', 'V_length', 'D_length', 'C_length', 'Height', 'Weight'], dtype='object')"
      ]
     },
     "execution_count": 357,
     "metadata": {},
     "output_type": "execute_result"
    }
   ],
   "source": [
    "df_num_scaled.columns"
   ]
  },
  {
   "cell_type": "code",
   "execution_count": 358,
   "metadata": {},
   "outputs": [],
   "source": [
    "# apply log transformation\n",
    "df_num_scaled['Width'] = np.log(df_fish['Width'])\n",
    "df_num_scaled['V_length'] = np.log(df_fish['V_length'])\n",
    "df_num_scaled['D_length'] = np.log(df_fish['D_length'])\n",
    "df_num_scaled['C_length'] = np.log(df_fish['C_length'])\n",
    "df_num_scaled['Weight'] = np.log(df_fish['Weight'])"
   ]
  },
  {
   "cell_type": "code",
   "execution_count": 359,
   "metadata": {},
   "outputs": [
    {
     "name": "stdout",
     "output_type": "stream",
     "text": [
      "Skewness for %s is %d Width 0.1538725343558522\n",
      "Kurtosis for %s is %d Width -1.0513769978784253\n",
      "Skewness for %s is %d V_length 0.1581046448465551\n",
      "Kurtosis for %s is %d V_length -1.0391499307079313\n",
      "Skewness for %s is %d D_length 0.1626626172767051\n",
      "Kurtosis for %s is %d D_length -1.0381319332781551\n",
      "Skewness for %s is %d C_length 0.16171029555571675\n",
      "Kurtosis for %s is %d C_length -1.0339077194395159\n",
      "Skewness for %s is %d Height -0.028890553318822666\n",
      "Kurtosis for %s is %d Height 3.882689593973838\n",
      "Skewness for %s is %d Weight 0.5060834735073809\n",
      "Kurtosis for %s is %d Weight 0.5675577934204918\n"
     ]
    }
   ],
   "source": [
    "for i in range(df_num_scaled.shape[1]):\n",
    "    print('Skewness for %s is %d' , df_num_scaled.columns[i] , df_num_scaled.iloc[:,i].skew())\n",
    "    print('Kurtosis for %s is %d' , df_num_scaled.columns[i] , df_num_scaled.iloc[:,i].kurtosis())"
   ]
  },
  {
   "cell_type": "code",
   "execution_count": 360,
   "metadata": {},
   "outputs": [],
   "source": [
    "# consider all the categorical variables in the data\n",
    "# select_dtypes: selects the variable having specified datatype\n",
    "# include: includes the variables with specified datatype\n",
    "df_cat = df_fish.select_dtypes(include=\"object\")"
   ]
  },
  {
   "cell_type": "code",
   "execution_count": 361,
   "metadata": {},
   "outputs": [],
   "source": [
    "# convert the categorical variable to dummy variable\n",
    "# get_dummies(): converts the variable to categorical variable\n",
    "# drop_first=True: indicates n-1 dummy enoding; if set to false indicated one-hot encoding\n",
    "dummy_variables = pd.get_dummies(df_cat, drop_first=True)"
   ]
  },
  {
   "cell_type": "code",
   "execution_count": 362,
   "metadata": {},
   "outputs": [],
   "source": [
    "# concatenate the numerical and dummy variables\n",
    "# axis: specifies whether to drop labels from index or columns; use 1 for columns and 0 for index\n",
    "X = pd.concat([df_num_scaled, dummy_variables],axis=1)"
   ]
  },
  {
   "cell_type": "code",
   "execution_count": 363,
   "metadata": {},
   "outputs": [
    {
     "name": "stdout",
     "output_type": "stream",
     "text": [
      "Skewness:  1.688153289960618\n"
     ]
    },
    {
     "data": {
      "image/png": "[encoded data removed]",
      "text/plain": [
       "<Figure size 1080x576 with 1 Axes>"
      ]
     },
     "metadata": {
      "needs_background": "light"
     },
     "output_type": "display_data"
    }
   ],
   "source": [
    "# set the plot size using figure()\n",
    "# pass width and height in inches to 'figsize' \n",
    "plt.figure(figsize = (15,8))\n",
    "\n",
    "# check the skewness of variable y by plotting distplot \n",
    "sns.distplot(df_fish[\"price\"])\n",
    "\n",
    "# set plot and axes labels\n",
    "# set text size using 'fontsize'\n",
    "plt.title('Distribution of Width of a Fish', fontsize = 15)\n",
    "plt.xlabel('Width of a Fish', fontsize = 15)\n",
    "plt.ylabel('Density', fontsize = 15)\n",
    "\n",
    "# check the skewness numerically\n",
    "# print the skewness of the variable \n",
    "print(\"Skewness: \", df_fish[\"price\"].skew())"
   ]
  },
  {
   "cell_type": "code",
   "execution_count": 364,
   "metadata": {},
   "outputs": [],
   "source": [
    "# consider the target variable\n",
    "df_target = df_fish[\"price\"]\n",
    "# standardize the target variable explicitly \n",
    "y = np.log(df_target)\n",
    "y = (y - y.mean()) / y.std()"
   ]
  },
  {
   "cell_type": "code",
   "execution_count": 365,
   "metadata": {},
   "outputs": [
    {
     "name": "stdout",
     "output_type": "stream",
     "text": [
      "Skewness:  0.175546632121324\n"
     ]
    },
    {
     "data": {
      "image/png": "[encoded data removed]",
      "text/plain": [
       "<Figure size 1080x576 with 1 Axes>"
      ]
     },
     "metadata": {
      "needs_background": "light"
     },
     "output_type": "display_data"
    }
   ],
   "source": [
    "# set the plot size using figure()\n",
    "# pass width and height in inches to 'figsize' \n",
    "plt.figure(figsize = (15,8))\n",
    "\n",
    "# check the skewness of variable y by plotting distplot \n",
    "sns.distplot(y)\n",
    "\n",
    "# set plot and axes labels\n",
    "# set text size using 'fontsize'\n",
    "plt.title('Distribution of Width of a Fish', fontsize = 15)\n",
    "plt.xlabel('Width of a Fish', fontsize = 15)\n",
    "plt.ylabel('Density', fontsize = 15)\n",
    "\n",
    "# check the skewness numerically\n",
    "# print the skewness of the variable \n",
    "print(\"Skewness: \", y.skew())"
   ]
  },
  {
   "cell_type": "markdown",
   "metadata": {},
   "source": [
    "<table align=\"left\">\n",
    "    <tr>\n",
    "        <td width=\"6%\">\n",
    "            <img src=\"question_icon.png\">\n",
    "        </td>\n",
    "        <td>\n",
    "            <div align=\"left\", style=\"font-size:120%\">\n",
    "                <font color=\"#21618C\">\n",
    "                    <b>2. Build a full model and check whether the errors have a serial correlation or not</b>\n",
    "                </font>\n",
    "            </div>\n",
    "        </td>\n",
    "    </tr>\n",
    "</table>"
   ]
  },
  {
   "cell_type": "markdown",
   "metadata": {},
   "source": [
    "# Build a full Model"
   ]
  },
  {
   "cell_type": "code",
   "execution_count": 366,
   "metadata": {
    "scrolled": false
   },
   "outputs": [
    {
     "name": "stdout",
     "output_type": "stream",
     "text": [
      "                                 OLS Regression Results                                \n",
      "=======================================================================================\n",
      "Dep. Variable:                  price   R-squared (uncentered):                   0.953\n",
      "Model:                            OLS   Adj. R-squared (uncentered):              0.952\n",
      "Method:                 Least Squares   F-statistic:                              1801.\n",
      "Date:                Sat, 28 Nov 2020   Prob (F-statistic):                        0.00\n",
      "Time:                        12:58:49   Log-Likelihood:                          157.04\n",
      "No. Observations:                1436   AIC:                                     -282.1\n",
      "Df Residuals:                    1420   BIC:                                     -197.8\n",
      "Df Model:                          16                                                  \n",
      "Covariance Type:            nonrobust                                                  \n",
      "=====================================================================================\n",
      "                        coef    std err          t      P>|t|      [0.025      0.975]\n",
      "-------------------------------------------------------------------------------------\n",
      "Width                 1.5318      0.194      7.896      0.000       1.151       1.912\n",
      "V_length              1.4058      1.116      1.259      0.208      -0.784       3.595\n",
      "D_length              1.3156      1.398      0.941      0.347      -1.428       4.059\n",
      "C_length             -2.1613      2.508     -0.862      0.389      -7.081       2.758\n",
      "Height                0.0507      0.052      0.970      0.332      -0.052       0.153\n",
      "Weight               -0.3583      0.184     -1.946      0.052      -0.719       0.003\n",
      "Species_Good          0.0928      0.043      2.167      0.030       0.009       0.177\n",
      "Species_Ideal         0.2019      0.042      4.781      0.000       0.119       0.285\n",
      "Species_Premium       0.1601      0.041      3.915      0.000       0.080       0.240\n",
      "Species_Very Good     0.1593      0.042      3.825      0.000       0.078       0.241\n",
      "color_E              -0.0303      0.021     -1.437      0.151      -0.072       0.011\n",
      "color_F              -0.0157      0.021     -0.750      0.453      -0.057       0.025\n",
      "color_G              -0.0323      0.020     -1.592      0.112      -0.072       0.008\n",
      "color_H              -0.1793      0.022     -8.145      0.000      -0.223      -0.136\n",
      "color_I              -0.2673      0.025    -10.592      0.000      -0.317      -0.218\n",
      "color_J              -0.3940      0.029    -13.403      0.000      -0.452      -0.336\n",
      "==============================================================================\n",
      "Omnibus:                       14.570   Durbin-Watson:                   2.009\n",
      "Prob(Omnibus):                  0.001   Jarque-Bera (JB):               22.400\n",
      "Skew:                           0.037   Prob(JB):                     1.37e-05\n",
      "Kurtosis:                       3.607   Cond. No.                     2.51e+03\n",
      "==============================================================================\n",
      "\n",
      "Warnings:\n",
      "[1] Standard Errors assume that the covariance matrix of the errors is correctly specified.\n",
      "[2] The condition number is large, 2.51e+03. This might indicate that there are\n",
      "strong multicollinearity or other numerical problems.\n"
     ]
    }
   ],
   "source": [
    "# split data into train subset and test subset\n",
    "# set 'random_state' to generate the same dataset each time you run the code \n",
    "# 'test_size' returns the proportion of data to be included in the testing set\n",
    "X_train, X_test, y_train, y_test = train_test_split(X, y, random_state=1, test_size = 0.2)\n",
    "\n",
    "# fit a full model with an intercept using fit()\n",
    "# add_constant(): adds the intercept term to the model\n",
    "MLR_model_full = sm.OLS(y_train, X_train).fit()\n",
    "\n",
    "# print the summary output\n",
    "print(MLR_model_full.summary())"
   ]
  },
  {
   "cell_type": "code",
   "execution_count": 367,
   "metadata": {},
   "outputs": [
    {
     "data": {
      "text/plain": [
       "0.9563074165297051"
      ]
     },
     "execution_count": 367,
     "metadata": {},
     "output_type": "execute_result"
    }
   ],
   "source": [
    "y_test_pred = MLR_model_full.predict(X_test)\n",
    "MLR_model_full_CD = r2_score(y_test,y_test_pred)\n",
    "MLR_model_full_CD "
   ]
  },
  {
   "cell_type": "code",
   "execution_count": 368,
   "metadata": {},
   "outputs": [
    {
     "name": "stdout",
     "output_type": "stream",
     "text": [
      "RMSE on test set: 0.20737560439555514\n"
     ]
    }
   ],
   "source": [
    "# compute RMSE on test data\n",
    "# take the square root of the MSE \n",
    "# calculate MSE using 'mean_squared_error()'\n",
    "MLR_model_full_RMSE =  np.sqrt(mean_squared_error(y_test, y_test_pred))\n",
    "print('RMSE on test set:',MLR_model_full_RMSE )"
   ]
  },
  {
   "cell_type": "markdown",
   "metadata": {},
   "source": [
    "From the above summary, we can observe that the value obtained from the Durbin-Watson test statistic is close to 2 (=1.970). Thus, we conclude that there is no autocorrelation."
   ]
  },
  {
   "cell_type": "markdown",
   "metadata": {},
   "source": [
    "## Check for consistency of the model"
   ]
  },
  {
   "cell_type": "code",
   "execution_count": 369,
   "metadata": {},
   "outputs": [
    {
     "data": {
      "text/plain": [
       "array([0.94639046, 0.95354152, 0.95130423, 0.95381917])"
      ]
     },
     "execution_count": 369,
     "metadata": {},
     "output_type": "execute_result"
    }
   ],
   "source": [
    "# using cross_val_score() for k-fold cross validation\n",
    "# estimator: pass the machine learning function. Here we are performing linear regression\n",
    "# pass the X_train and y_train sets\n",
    "# cv: stands for number of subsets\n",
    "# scoring: pass the scoring parameter, 'r2' for R-squared \n",
    "scores = cross_val_score(estimator = LinearRegression(), X = X_train, y = y_train, cv = 4, scoring = 'r2')\n",
    "\n",
    "# print the coefficient of determination for each model\n",
    "scores"
   ]
  },
  {
   "cell_type": "markdown",
   "metadata": {},
   "source": [
    "## Check for multicollinearity in the data"
   ]
  },
  {
   "cell_type": "markdown",
   "metadata": {},
   "source": [
    "Use the train and test set obtained in Q1."
   ]
  },
  {
   "cell_type": "code",
   "execution_count": 370,
   "metadata": {
    "scrolled": false
   },
   "outputs": [
    {
     "name": "stdout",
     "output_type": "stream",
     "text": [
      "                                 OLS Regression Results                                \n",
      "=======================================================================================\n",
      "Dep. Variable:                  price   R-squared (uncentered):                   0.953\n",
      "Model:                            OLS   Adj. R-squared (uncentered):              0.952\n",
      "Method:                 Least Squares   F-statistic:                              1801.\n",
      "Date:                Sat, 28 Nov 2020   Prob (F-statistic):                        0.00\n",
      "Time:                        12:58:49   Log-Likelihood:                          157.04\n",
      "No. Observations:                1436   AIC:                                     -282.1\n",
      "Df Residuals:                    1420   BIC:                                     -197.8\n",
      "Df Model:                          16                                                  \n",
      "Covariance Type:            nonrobust                                                  \n",
      "=====================================================================================\n",
      "                        coef    std err          t      P>|t|      [0.025      0.975]\n",
      "-------------------------------------------------------------------------------------\n",
      "Width                 1.5318      0.194      7.896      0.000       1.151       1.912\n",
      "V_length              1.4058      1.116      1.259      0.208      -0.784       3.595\n",
      "D_length              1.3156      1.398      0.941      0.347      -1.428       4.059\n",
      "C_length             -2.1613      2.508     -0.862      0.389      -7.081       2.758\n",
      "Height                0.0507      0.052      0.970      0.332      -0.052       0.153\n",
      "Weight               -0.3583      0.184     -1.946      0.052      -0.719       0.003\n",
      "Species_Good          0.0928      0.043      2.167      0.030       0.009       0.177\n",
      "Species_Ideal         0.2019      0.042      4.781      0.000       0.119       0.285\n",
      "Species_Premium       0.1601      0.041      3.915      0.000       0.080       0.240\n",
      "Species_Very Good     0.1593      0.042      3.825      0.000       0.078       0.241\n",
      "color_E              -0.0303      0.021     -1.437      0.151      -0.072       0.011\n",
      "color_F              -0.0157      0.021     -0.750      0.453      -0.057       0.025\n",
      "color_G              -0.0323      0.020     -1.592      0.112      -0.072       0.008\n",
      "color_H              -0.1793      0.022     -8.145      0.000      -0.223      -0.136\n",
      "color_I              -0.2673      0.025    -10.592      0.000      -0.317      -0.218\n",
      "color_J              -0.3940      0.029    -13.403      0.000      -0.452      -0.336\n",
      "==============================================================================\n",
      "Omnibus:                       14.570   Durbin-Watson:                   2.009\n",
      "Prob(Omnibus):                  0.001   Jarque-Bera (JB):               22.400\n",
      "Skew:                           0.037   Prob(JB):                     1.37e-05\n",
      "Kurtosis:                       3.607   Cond. No.                     2.51e+03\n",
      "==============================================================================\n",
      "\n",
      "Warnings:\n",
      "[1] Standard Errors assume that the covariance matrix of the errors is correctly specified.\n",
      "[2] The condition number is large, 2.51e+03. This might indicate that there are\n",
      "strong multicollinearity or other numerical problems.\n"
     ]
    }
   ],
   "source": [
    "# fit a model with an intercept using fit()\n",
    "# add_constant(): adds the intercept term to the model\n",
    "MLR_model = sm.OLS(y_train, X_train).fit()\n",
    "\n",
    "# print the summary output\n",
    "print(MLR_model.summary())"
   ]
  },
  {
   "cell_type": "markdown",
   "metadata": {},
   "source": [
    "The 'Cond. No' (= 178) represents the `Condition Number (CN)` which is used to check the multicollinearity. \n",
    "\n",
    "If CN < 100: no multicollinearity<br>\n",
    "If CN is between 100 and 1000: moderate multicollinearity<br>\n",
    "If CN > 1000: severe multicollinearity\n",
    "\n",
    "Thus, it can be seen that there is moderate multicollinearity in the data."
   ]
  },
  {
   "cell_type": "markdown",
   "metadata": {},
   "source": [
    "## If Multi collinearity extists resolve the issue"
   ]
  },
  {
   "cell_type": "code",
   "execution_count": 371,
   "metadata": {},
   "outputs": [
    {
     "data": {
      "image/png": "[encoded data removed]",
      "text/plain": [
       "<Figure size 1440x720 with 2 Axes>"
      ]
     },
     "metadata": {
      "needs_background": "light"
     },
     "output_type": "display_data"
    }
   ],
   "source": [
    "# set the plot size using figure()\n",
    "# pass width and height in inches to 'figsize' \n",
    "plt.figure(figsize = (20,10))\n",
    "\n",
    "# plot the heat map\n",
    "# corr(): give the correlation matrix\n",
    "# annot: prints the correlation values in the chart\n",
    "# annot_kws: sets the font size of the annotation\n",
    "# 'cmap' maps correlation values to color space\n",
    "sns.heatmap(X.corr()[np.abs(X.corr()) > 0.6], annot = True, annot_kws = {\"size\": 11}, cmap = 'Blues')\n",
    "\n",
    "# rotate the y-axis labels\n",
    "# set text size using 'fontsize'\n",
    "plt.yticks(rotation = 'horizontal', fontsize = 15)\n",
    "plt.xticks(fontsize = 15)\n",
    "\n",
    "# display the plot\n",
    "plt.show()"
   ]
  },
  {
   "cell_type": "code",
   "execution_count": 372,
   "metadata": {},
   "outputs": [
    {
     "data": {
      "text/html": [
       "<div>\n",
       "<style scoped>\n",
       "    .dataframe tbody tr th:only-of-type {\n",
       "        vertical-align: middle;\n",
       "    }\n",
       "\n",
       "    .dataframe tbody tr th {\n",
       "        vertical-align: top;\n",
       "    }\n",
       "\n",
       "    .dataframe thead th {\n",
       "        text-align: right;\n",
       "    }\n",
       "</style>\n",
       "<table border=\"1\" class=\"dataframe\">\n",
       "  <thead>\n",
       "    <tr style=\"text-align: right;\">\n",
       "      <th></th>\n",
       "      <th>Width</th>\n",
       "      <th>V_length</th>\n",
       "      <th>D_length</th>\n",
       "      <th>C_length</th>\n",
       "      <th>Height</th>\n",
       "      <th>Weight</th>\n",
       "      <th>Species_Good</th>\n",
       "      <th>Species_Ideal</th>\n",
       "      <th>Species_Premium</th>\n",
       "      <th>Species_Very Good</th>\n",
       "      <th>color_E</th>\n",
       "      <th>color_F</th>\n",
       "      <th>color_G</th>\n",
       "      <th>color_H</th>\n",
       "      <th>color_I</th>\n",
       "      <th>color_J</th>\n",
       "    </tr>\n",
       "  </thead>\n",
       "  <tbody>\n",
       "    <tr>\n",
       "      <th>0</th>\n",
       "      <td>0.009950</td>\n",
       "      <td>1.821318</td>\n",
       "      <td>1.834180</td>\n",
       "      <td>1.388791</td>\n",
       "      <td>1.938423</td>\n",
       "      <td>4.060443</td>\n",
       "      <td>1</td>\n",
       "      <td>0</td>\n",
       "      <td>0</td>\n",
       "      <td>0</td>\n",
       "      <td>0</td>\n",
       "      <td>0</td>\n",
       "      <td>0</td>\n",
       "      <td>0</td>\n",
       "      <td>0</td>\n",
       "      <td>0</td>\n",
       "    </tr>\n",
       "    <tr>\n",
       "      <th>1</th>\n",
       "      <td>-0.867501</td>\n",
       "      <td>1.576915</td>\n",
       "      <td>1.583094</td>\n",
       "      <td>1.085189</td>\n",
       "      <td>-0.518959</td>\n",
       "      <td>4.043051</td>\n",
       "      <td>0</td>\n",
       "      <td>1</td>\n",
       "      <td>0</td>\n",
       "      <td>0</td>\n",
       "      <td>0</td>\n",
       "      <td>1</td>\n",
       "      <td>0</td>\n",
       "      <td>0</td>\n",
       "      <td>0</td>\n",
       "      <td>0</td>\n",
       "    </tr>\n",
       "    <tr>\n",
       "      <th>2</th>\n",
       "      <td>-0.094311</td>\n",
       "      <td>1.822935</td>\n",
       "      <td>1.835776</td>\n",
       "      <td>1.348073</td>\n",
       "      <td>0.042729</td>\n",
       "      <td>4.025352</td>\n",
       "      <td>0</td>\n",
       "      <td>1</td>\n",
       "      <td>0</td>\n",
       "      <td>0</td>\n",
       "      <td>1</td>\n",
       "      <td>0</td>\n",
       "      <td>0</td>\n",
       "      <td>0</td>\n",
       "      <td>0</td>\n",
       "      <td>0</td>\n",
       "    </tr>\n",
       "    <tr>\n",
       "      <th>3</th>\n",
       "      <td>0.157004</td>\n",
       "      <td>1.911023</td>\n",
       "      <td>1.903599</td>\n",
       "      <td>1.446919</td>\n",
       "      <td>0.955470</td>\n",
       "      <td>4.025352</td>\n",
       "      <td>0</td>\n",
       "      <td>0</td>\n",
       "      <td>0</td>\n",
       "      <td>1</td>\n",
       "      <td>0</td>\n",
       "      <td>0</td>\n",
       "      <td>0</td>\n",
       "      <td>1</td>\n",
       "      <td>0</td>\n",
       "      <td>0</td>\n",
       "    </tr>\n",
       "    <tr>\n",
       "      <th>4</th>\n",
       "      <td>-1.108663</td>\n",
       "      <td>1.488400</td>\n",
       "      <td>1.495149</td>\n",
       "      <td>1.011601</td>\n",
       "      <td>0.183150</td>\n",
       "      <td>4.025352</td>\n",
       "      <td>0</td>\n",
       "      <td>0</td>\n",
       "      <td>0</td>\n",
       "      <td>1</td>\n",
       "      <td>0</td>\n",
       "      <td>1</td>\n",
       "      <td>0</td>\n",
       "      <td>0</td>\n",
       "      <td>0</td>\n",
       "      <td>0</td>\n",
       "    </tr>\n",
       "  </tbody>\n",
       "</table>\n",
       "</div>"
      ],
      "text/plain": [
       "      Width  V_length  D_length  C_length    Height    Weight  Species_Good  \\\n",
       "0  0.009950  1.821318  1.834180  1.388791  1.938423  4.060443             1   \n",
       "1 -0.867501  1.576915  1.583094  1.085189 -0.518959  4.043051             0   \n",
       "2 -0.094311  1.822935  1.835776  1.348073  0.042729  4.025352             0   \n",
       "3  0.157004  1.911023  1.903599  1.446919  0.955470  4.025352             0   \n",
       "4 -1.108663  1.488400  1.495149  1.011601  0.183150  4.025352             0   \n",
       "\n",
       "   Species_Ideal  Species_Premium  Species_Very Good  color_E  color_F  \\\n",
       "0              0                0                  0        0        0   \n",
       "1              1                0                  0        0        1   \n",
       "2              1                0                  0        1        0   \n",
       "3              0                0                  1        0        0   \n",
       "4              0                0                  1        0        1   \n",
       "\n",
       "   color_G  color_H  color_I  color_J  \n",
       "0        0        0        0        0  \n",
       "1        0        0        0        0  \n",
       "2        0        0        0        0  \n",
       "3        0        1        0        0  \n",
       "4        0        0        0        0  "
      ]
     },
     "execution_count": 372,
     "metadata": {},
     "output_type": "execute_result"
    }
   ],
   "source": [
    "# filter the numerical features in the dataset\n",
    "df_numeric_features = X.select_dtypes(include=[np.number])\n",
    "\n",
    "# display the first five observations\n",
    "df_numeric_features.head()"
   ]
  },
  {
   "cell_type": "code",
   "execution_count": 373,
   "metadata": {},
   "outputs": [
    {
     "data": {
      "text/html": [
       "<div>\n",
       "<style scoped>\n",
       "    .dataframe tbody tr th:only-of-type {\n",
       "        vertical-align: middle;\n",
       "    }\n",
       "\n",
       "    .dataframe tbody tr th {\n",
       "        vertical-align: top;\n",
       "    }\n",
       "\n",
       "    .dataframe thead th {\n",
       "        text-align: right;\n",
       "    }\n",
       "</style>\n",
       "<table border=\"1\" class=\"dataframe\">\n",
       "  <thead>\n",
       "    <tr style=\"text-align: right;\">\n",
       "      <th></th>\n",
       "      <th>VIF_Factor</th>\n",
       "      <th>Features</th>\n",
       "    </tr>\n",
       "  </thead>\n",
       "  <tbody>\n",
       "    <tr>\n",
       "      <th>0</th>\n",
       "      <td>639.700352</td>\n",
       "      <td>Width</td>\n",
       "    </tr>\n",
       "    <tr>\n",
       "      <th>1</th>\n",
       "      <td>125473.816861</td>\n",
       "      <td>V_length</td>\n",
       "    </tr>\n",
       "    <tr>\n",
       "      <th>2</th>\n",
       "      <td>186873.703401</td>\n",
       "      <td>D_length</td>\n",
       "    </tr>\n",
       "    <tr>\n",
       "      <th>3</th>\n",
       "      <td>335019.336437</td>\n",
       "      <td>C_length</td>\n",
       "    </tr>\n",
       "    <tr>\n",
       "      <th>4</th>\n",
       "      <td>92.309810</td>\n",
       "      <td>Height</td>\n",
       "    </tr>\n",
       "    <tr>\n",
       "      <th>5</th>\n",
       "      <td>16394.523487</td>\n",
       "      <td>Weight</td>\n",
       "    </tr>\n",
       "    <tr>\n",
       "      <th>6</th>\n",
       "      <td>5.132265</td>\n",
       "      <td>Species_Good</td>\n",
       "    </tr>\n",
       "    <tr>\n",
       "      <th>7</th>\n",
       "      <td>21.035978</td>\n",
       "      <td>Species_Ideal</td>\n",
       "    </tr>\n",
       "    <tr>\n",
       "      <th>8</th>\n",
       "      <td>13.072518</td>\n",
       "      <td>Species_Premium</td>\n",
       "    </tr>\n",
       "    <tr>\n",
       "      <th>9</th>\n",
       "      <td>11.851958</td>\n",
       "      <td>Species_Very Good</td>\n",
       "    </tr>\n",
       "    <tr>\n",
       "      <th>10</th>\n",
       "      <td>2.350104</td>\n",
       "      <td>color_E</td>\n",
       "    </tr>\n",
       "    <tr>\n",
       "      <th>11</th>\n",
       "      <td>2.401477</td>\n",
       "      <td>color_F</td>\n",
       "    </tr>\n",
       "    <tr>\n",
       "      <th>12</th>\n",
       "      <td>2.609126</td>\n",
       "      <td>color_G</td>\n",
       "    </tr>\n",
       "    <tr>\n",
       "      <th>13</th>\n",
       "      <td>2.227629</td>\n",
       "      <td>color_H</td>\n",
       "    </tr>\n",
       "    <tr>\n",
       "      <th>14</th>\n",
       "      <td>1.747549</td>\n",
       "      <td>color_I</td>\n",
       "    </tr>\n",
       "    <tr>\n",
       "      <th>15</th>\n",
       "      <td>1.473337</td>\n",
       "      <td>color_J</td>\n",
       "    </tr>\n",
       "  </tbody>\n",
       "</table>\n",
       "</div>"
      ],
      "text/plain": [
       "       VIF_Factor           Features\n",
       "0      639.700352              Width\n",
       "1   125473.816861           V_length\n",
       "2   186873.703401           D_length\n",
       "3   335019.336437           C_length\n",
       "4       92.309810             Height\n",
       "5    16394.523487             Weight\n",
       "6        5.132265       Species_Good\n",
       "7       21.035978      Species_Ideal\n",
       "8       13.072518    Species_Premium\n",
       "9       11.851958  Species_Very Good\n",
       "10       2.350104            color_E\n",
       "11       2.401477            color_F\n",
       "12       2.609126            color_G\n",
       "13       2.227629            color_H\n",
       "14       1.747549            color_I\n",
       "15       1.473337            color_J"
      ]
     },
     "execution_count": 373,
     "metadata": {},
     "output_type": "execute_result"
    }
   ],
   "source": [
    "from statsmodels.stats.outliers_influence import variance_inflation_factor\n",
    "# create an empty dataframe to store the VIF for each variable\n",
    "vif = pd.DataFrame()\n",
    "\n",
    "# calculate VIF using list comprehension \n",
    "# use for loop to access each variable \n",
    "# calculate VIF for each variable and create a column 'VIF_Factor' to store the values \n",
    "vif[\"VIF_Factor\"] = [variance_inflation_factor(df_numeric_features.values, i) for i in range(df_numeric_features.shape[1])]\n",
    "\n",
    "# create a column of variable names\n",
    "vif[\"Features\"] = df_numeric_features.columns\n",
    "\n",
    "# print the dataframe \n",
    "vif"
   ]
  },
  {
   "cell_type": "code",
   "execution_count": 374,
   "metadata": {},
   "outputs": [
    {
     "name": "stdout",
     "output_type": "stream",
     "text": [
      "    VIF_Factor           Features\n",
      "0     1.655583              Width\n",
      "1     1.096407             Height\n",
      "2     1.560409       Species_Good\n",
      "3     3.709757      Species_Ideal\n",
      "4     2.693012    Species_Premium\n",
      "5     2.460602  Species_Very Good\n",
      "6     2.125580            color_E\n",
      "7     2.123445            color_F\n",
      "8     2.347934            color_G\n",
      "9     2.038076            color_H\n",
      "10    1.622325            color_I\n",
      "11    1.412353            color_J\n"
     ]
    }
   ],
   "source": [
    "# for each numeric variable, calculate VIF and save it in a dataframe 'vif'\n",
    "\n",
    "# use for loop to iterate the VIF function \n",
    "for ind in range(len(df_numeric_features.columns)):\n",
    "    \n",
    "    # create an empty dataframe\n",
    "    vif = pd.DataFrame()\n",
    "\n",
    "    # calculate VIF using list comprehension\n",
    "    # use for loop to access each variable \n",
    "    # calculate VIF for each variable and create a column 'VIF_Factor' to store the values \n",
    "    vif[\"VIF_Factor\"] = [variance_inflation_factor(df_numeric_features.values, i) for i in range(df_numeric_features.shape[1])]\n",
    "\n",
    "    # create a column of variable names\n",
    "    vif[\"Features\"] = df_numeric_features.columns\n",
    "\n",
    "    # filter the variables with VIF greater than 10 and store it in a dataframe 'multi' \n",
    "    # one can choose the theshold other than 10 (it dependes on the business requirements)\n",
    "    multi = vif[vif['VIF_Factor'] > 10]\n",
    "    \n",
    "    # if dataframe 'multi' is not empty, then sort the dataframe by VIF values\n",
    "    # if dataframe 'multi' is empty (i.e. all VIF <= 10), then print the dataframe 'vif' and break the for loop using 'break' \n",
    "    # 'by' sorts the data using given variable(s)\n",
    "    # 'ascending = False' sorts the data in descending order\n",
    "    if(multi.empty == False):\n",
    "        df_sorted = multi.sort_values(by = 'VIF_Factor', ascending = False)\n",
    "    else:\n",
    "        print(vif)\n",
    "        break\n",
    "    \n",
    "    # use if-else to drop the variable with the highest VIF\n",
    "    # if  dataframe 'df_sorted' is not empty, then drop the first entry in the column 'Features' from the numeric variables\n",
    "    # select the variable using 'iloc[]'\n",
    "    # 'axis=1' drops the corresponding column\n",
    "    #  else print the final dataframe 'vif' with all values after removal of variables with VIF less than 10  \n",
    "    if (df_sorted.empty == False):\n",
    "        df_numeric_features = df_numeric_features.drop(df_sorted.Features.iloc[0], axis=1)\n",
    "    else:\n",
    "        print(vif)"
   ]
  },
  {
   "cell_type": "code",
   "execution_count": 375,
   "metadata": {},
   "outputs": [
    {
     "data": {
      "text/html": [
       "<div>\n",
       "<style scoped>\n",
       "    .dataframe tbody tr th:only-of-type {\n",
       "        vertical-align: middle;\n",
       "    }\n",
       "\n",
       "    .dataframe tbody tr th {\n",
       "        vertical-align: top;\n",
       "    }\n",
       "\n",
       "    .dataframe thead th {\n",
       "        text-align: right;\n",
       "    }\n",
       "</style>\n",
       "<table border=\"1\" class=\"dataframe\">\n",
       "  <thead>\n",
       "    <tr style=\"text-align: right;\">\n",
       "      <th></th>\n",
       "      <th>Width</th>\n",
       "      <th>Height</th>\n",
       "      <th>Species_Good</th>\n",
       "      <th>Species_Ideal</th>\n",
       "      <th>Species_Premium</th>\n",
       "      <th>Species_Very Good</th>\n",
       "      <th>color_E</th>\n",
       "      <th>color_F</th>\n",
       "      <th>color_G</th>\n",
       "      <th>color_H</th>\n",
       "      <th>color_I</th>\n",
       "      <th>color_J</th>\n",
       "    </tr>\n",
       "  </thead>\n",
       "  <tbody>\n",
       "    <tr>\n",
       "      <th>0</th>\n",
       "      <td>0.009950</td>\n",
       "      <td>1.938423</td>\n",
       "      <td>1</td>\n",
       "      <td>0</td>\n",
       "      <td>0</td>\n",
       "      <td>0</td>\n",
       "      <td>0</td>\n",
       "      <td>0</td>\n",
       "      <td>0</td>\n",
       "      <td>0</td>\n",
       "      <td>0</td>\n",
       "      <td>0</td>\n",
       "    </tr>\n",
       "    <tr>\n",
       "      <th>1</th>\n",
       "      <td>-0.867501</td>\n",
       "      <td>-0.518959</td>\n",
       "      <td>0</td>\n",
       "      <td>1</td>\n",
       "      <td>0</td>\n",
       "      <td>0</td>\n",
       "      <td>0</td>\n",
       "      <td>1</td>\n",
       "      <td>0</td>\n",
       "      <td>0</td>\n",
       "      <td>0</td>\n",
       "      <td>0</td>\n",
       "    </tr>\n",
       "    <tr>\n",
       "      <th>2</th>\n",
       "      <td>-0.094311</td>\n",
       "      <td>0.042729</td>\n",
       "      <td>0</td>\n",
       "      <td>1</td>\n",
       "      <td>0</td>\n",
       "      <td>0</td>\n",
       "      <td>1</td>\n",
       "      <td>0</td>\n",
       "      <td>0</td>\n",
       "      <td>0</td>\n",
       "      <td>0</td>\n",
       "      <td>0</td>\n",
       "    </tr>\n",
       "    <tr>\n",
       "      <th>3</th>\n",
       "      <td>0.157004</td>\n",
       "      <td>0.955470</td>\n",
       "      <td>0</td>\n",
       "      <td>0</td>\n",
       "      <td>0</td>\n",
       "      <td>1</td>\n",
       "      <td>0</td>\n",
       "      <td>0</td>\n",
       "      <td>0</td>\n",
       "      <td>1</td>\n",
       "      <td>0</td>\n",
       "      <td>0</td>\n",
       "    </tr>\n",
       "    <tr>\n",
       "      <th>4</th>\n",
       "      <td>-1.108663</td>\n",
       "      <td>0.183150</td>\n",
       "      <td>0</td>\n",
       "      <td>0</td>\n",
       "      <td>0</td>\n",
       "      <td>1</td>\n",
       "      <td>0</td>\n",
       "      <td>1</td>\n",
       "      <td>0</td>\n",
       "      <td>0</td>\n",
       "      <td>0</td>\n",
       "      <td>0</td>\n",
       "    </tr>\n",
       "  </tbody>\n",
       "</table>\n",
       "</div>"
      ],
      "text/plain": [
       "      Width    Height  Species_Good  Species_Ideal  Species_Premium  \\\n",
       "0  0.009950  1.938423             1              0                0   \n",
       "1 -0.867501 -0.518959             0              1                0   \n",
       "2 -0.094311  0.042729             0              1                0   \n",
       "3  0.157004  0.955470             0              0                0   \n",
       "4 -1.108663  0.183150             0              0                0   \n",
       "\n",
       "   Species_Very Good  color_E  color_F  color_G  color_H  color_I  color_J  \n",
       "0                  0        0        0        0        0        0        0  \n",
       "1                  0        0        1        0        0        0        0  \n",
       "2                  0        1        0        0        0        0        0  \n",
       "3                  1        0        0        0        1        0        0  \n",
       "4                  1        0        1        0        0        0        0  "
      ]
     },
     "execution_count": 375,
     "metadata": {},
     "output_type": "execute_result"
    }
   ],
   "source": [
    "# filter the numerical features in the dataset\n",
    "df_numeric_features = X[['Width', 'Height', 'Species_Good', 'Species_Ideal', 'Species_Premium', 'Species_Very Good', 'color_E', 'color_F', 'color_G', 'color_H', 'color_I', 'color_J']]\n",
    "\n",
    "# display the first five observations\n",
    "df_numeric_features.head()"
   ]
  },
  {
   "cell_type": "code",
   "execution_count": 376,
   "metadata": {},
   "outputs": [
    {
     "data": {
      "text/html": [
       "<div>\n",
       "<style scoped>\n",
       "    .dataframe tbody tr th:only-of-type {\n",
       "        vertical-align: middle;\n",
       "    }\n",
       "\n",
       "    .dataframe tbody tr th {\n",
       "        vertical-align: top;\n",
       "    }\n",
       "\n",
       "    .dataframe thead th {\n",
       "        text-align: right;\n",
       "    }\n",
       "</style>\n",
       "<table border=\"1\" class=\"dataframe\">\n",
       "  <thead>\n",
       "    <tr style=\"text-align: right;\">\n",
       "      <th></th>\n",
       "      <th>VIF_Factor</th>\n",
       "      <th>Features</th>\n",
       "    </tr>\n",
       "  </thead>\n",
       "  <tbody>\n",
       "    <tr>\n",
       "      <th>0</th>\n",
       "      <td>1.655583</td>\n",
       "      <td>Width</td>\n",
       "    </tr>\n",
       "    <tr>\n",
       "      <th>1</th>\n",
       "      <td>1.096407</td>\n",
       "      <td>Height</td>\n",
       "    </tr>\n",
       "    <tr>\n",
       "      <th>2</th>\n",
       "      <td>1.560409</td>\n",
       "      <td>Species_Good</td>\n",
       "    </tr>\n",
       "    <tr>\n",
       "      <th>3</th>\n",
       "      <td>3.709757</td>\n",
       "      <td>Species_Ideal</td>\n",
       "    </tr>\n",
       "    <tr>\n",
       "      <th>4</th>\n",
       "      <td>2.693012</td>\n",
       "      <td>Species_Premium</td>\n",
       "    </tr>\n",
       "    <tr>\n",
       "      <th>5</th>\n",
       "      <td>2.460602</td>\n",
       "      <td>Species_Very Good</td>\n",
       "    </tr>\n",
       "    <tr>\n",
       "      <th>6</th>\n",
       "      <td>2.125580</td>\n",
       "      <td>color_E</td>\n",
       "    </tr>\n",
       "    <tr>\n",
       "      <th>7</th>\n",
       "      <td>2.123445</td>\n",
       "      <td>color_F</td>\n",
       "    </tr>\n",
       "    <tr>\n",
       "      <th>8</th>\n",
       "      <td>2.347934</td>\n",
       "      <td>color_G</td>\n",
       "    </tr>\n",
       "    <tr>\n",
       "      <th>9</th>\n",
       "      <td>2.038076</td>\n",
       "      <td>color_H</td>\n",
       "    </tr>\n",
       "    <tr>\n",
       "      <th>10</th>\n",
       "      <td>1.622325</td>\n",
       "      <td>color_I</td>\n",
       "    </tr>\n",
       "    <tr>\n",
       "      <th>11</th>\n",
       "      <td>1.412353</td>\n",
       "      <td>color_J</td>\n",
       "    </tr>\n",
       "  </tbody>\n",
       "</table>\n",
       "</div>"
      ],
      "text/plain": [
       "    VIF_Factor           Features\n",
       "0     1.655583              Width\n",
       "1     1.096407             Height\n",
       "2     1.560409       Species_Good\n",
       "3     3.709757      Species_Ideal\n",
       "4     2.693012    Species_Premium\n",
       "5     2.460602  Species_Very Good\n",
       "6     2.125580            color_E\n",
       "7     2.123445            color_F\n",
       "8     2.347934            color_G\n",
       "9     2.038076            color_H\n",
       "10    1.622325            color_I\n",
       "11    1.412353            color_J"
      ]
     },
     "execution_count": 376,
     "metadata": {},
     "output_type": "execute_result"
    }
   ],
   "source": [
    "# create an empty dataframe to store the VIF for each variable\n",
    "vif = pd.DataFrame()\n",
    "\n",
    "# calculate VIF using list comprehension \n",
    "# use for loop to access each variable \n",
    "# calculate VIF for each variable and create a column 'VIF_Factor' to store the values \n",
    "vif[\"VIF_Factor\"] = [variance_inflation_factor(df_numeric_features.values, i) for i in range(df_numeric_features.shape[1])]\n",
    "\n",
    "# create a column of variable names\n",
    "vif[\"Features\"] = df_numeric_features.columns\n",
    "\n",
    "# print the dataframe \n",
    "vif"
   ]
  },
  {
   "cell_type": "markdown",
   "metadata": {},
   "source": [
    "## Construct the Full Model again"
   ]
  },
  {
   "cell_type": "code",
   "execution_count": 377,
   "metadata": {},
   "outputs": [],
   "source": [
    "X = X[['Width', 'Height', 'Species_Good', 'Species_Ideal', 'Species_Premium', 'Species_Very Good', \n",
    "       'color_E', 'color_F', 'color_G', 'color_H', 'color_I', 'color_J']]"
   ]
  },
  {
   "cell_type": "code",
   "execution_count": 378,
   "metadata": {},
   "outputs": [
    {
     "name": "stdout",
     "output_type": "stream",
     "text": [
      "                                 OLS Regression Results                                \n",
      "=======================================================================================\n",
      "Dep. Variable:                  price   R-squared (uncentered):                   0.945\n",
      "Model:                            OLS   Adj. R-squared (uncentered):              0.945\n",
      "Method:                 Least Squares   F-statistic:                              2043.\n",
      "Date:                Sat, 28 Nov 2020   Prob (F-statistic):                        0.00\n",
      "Time:                        12:58:52   Log-Likelihood:                          44.935\n",
      "No. Observations:                1436   AIC:                                     -65.87\n",
      "Df Residuals:                    1424   BIC:                                     -2.635\n",
      "Df Model:                          12                                                  \n",
      "Covariance Type:            nonrobust                                                  \n",
      "=====================================================================================\n",
      "                        coef    std err          t      P>|t|      [0.025      0.975]\n",
      "-------------------------------------------------------------------------------------\n",
      "Width                 1.7088      0.011    153.350      0.000       1.687       1.731\n",
      "Height                0.0138      0.006      2.134      0.033       0.001       0.026\n",
      "Species_Good          0.6209      0.025     24.432      0.000       0.571       0.671\n",
      "Species_Ideal         0.7556      0.019     39.296      0.000       0.718       0.793\n",
      "Species_Premium       0.7041      0.020     35.080      0.000       0.665       0.743\n",
      "Species_Very Good     0.6972      0.021     33.816      0.000       0.657       0.738\n",
      "color_E               0.0678      0.022      3.132      0.002       0.025       0.110\n",
      "color_F               0.0921      0.021      4.330      0.000       0.050       0.134\n",
      "color_G               0.0646      0.021      3.102      0.002       0.024       0.105\n",
      "color_H              -0.0831      0.023     -3.647      0.000      -0.128      -0.038\n",
      "color_I              -0.1753      0.026     -6.633      0.000      -0.227      -0.123\n",
      "color_J              -0.3142      0.031    -10.091      0.000      -0.375      -0.253\n",
      "==============================================================================\n",
      "Omnibus:                       54.942   Durbin-Watson:                   2.023\n",
      "Prob(Omnibus):                  0.000   Jarque-Bera (JB):               77.417\n",
      "Skew:                           0.369   Prob(JB):                     1.55e-17\n",
      "Kurtosis:                       3.866   Cond. No.                         8.84\n",
      "==============================================================================\n",
      "\n",
      "Warnings:\n",
      "[1] Standard Errors assume that the covariance matrix of the errors is correctly specified.\n"
     ]
    }
   ],
   "source": [
    "# split data into train subset and test subset\n",
    "# set 'random_state' to generate the same dataset each time you run the code \n",
    "# 'test_size' returns the proportion of data to be included in the testing set\n",
    "X_train, X_test, y_train, y_test = train_test_split(X, y, random_state=1, test_size = 0.2)\n",
    "\n",
    "# fit a full model with an intercept using fit()\n",
    "# add_constant(): adds the intercept term to the model\n",
    "MLR_model_full_WO_MC = sm.OLS(y_train, X_train).fit()\n",
    "\n",
    "# print the summary output\n",
    "print(MLR_model_full_WO_MC.summary())"
   ]
  },
  {
   "cell_type": "markdown",
   "metadata": {},
   "source": [
    "## Check, whether the Residuals follow Normal Distriution or not?"
   ]
  },
  {
   "cell_type": "code",
   "execution_count": 379,
   "metadata": {},
   "outputs": [
    {
     "name": "stdout",
     "output_type": "stream",
     "text": [
      "                                 OLS Regression Results                                \n",
      "=======================================================================================\n",
      "Dep. Variable:                  price   R-squared (uncentered):                   0.945\n",
      "Model:                            OLS   Adj. R-squared (uncentered):              0.945\n",
      "Method:                 Least Squares   F-statistic:                              2043.\n",
      "Date:                Sat, 28 Nov 2020   Prob (F-statistic):                        0.00\n",
      "Time:                        12:58:52   Log-Likelihood:                          44.935\n",
      "No. Observations:                1436   AIC:                                     -65.87\n",
      "Df Residuals:                    1424   BIC:                                     -2.635\n",
      "Df Model:                          12                                                  \n",
      "Covariance Type:            nonrobust                                                  \n",
      "=====================================================================================\n",
      "                        coef    std err          t      P>|t|      [0.025      0.975]\n",
      "-------------------------------------------------------------------------------------\n",
      "Width                 1.7088      0.011    153.350      0.000       1.687       1.731\n",
      "Height                0.0138      0.006      2.134      0.033       0.001       0.026\n",
      "Species_Good          0.6209      0.025     24.432      0.000       0.571       0.671\n",
      "Species_Ideal         0.7556      0.019     39.296      0.000       0.718       0.793\n",
      "Species_Premium       0.7041      0.020     35.080      0.000       0.665       0.743\n",
      "Species_Very Good     0.6972      0.021     33.816      0.000       0.657       0.738\n",
      "color_E               0.0678      0.022      3.132      0.002       0.025       0.110\n",
      "color_F               0.0921      0.021      4.330      0.000       0.050       0.134\n",
      "color_G               0.0646      0.021      3.102      0.002       0.024       0.105\n",
      "color_H              -0.0831      0.023     -3.647      0.000      -0.128      -0.038\n",
      "color_I              -0.1753      0.026     -6.633      0.000      -0.227      -0.123\n",
      "color_J              -0.3142      0.031    -10.091      0.000      -0.375      -0.253\n",
      "==============================================================================\n",
      "Omnibus:                       54.942   Durbin-Watson:                   2.023\n",
      "Prob(Omnibus):                  0.000   Jarque-Bera (JB):               77.417\n",
      "Skew:                           0.369   Prob(JB):                     1.55e-17\n",
      "Kurtosis:                       3.866   Cond. No.                         8.84\n",
      "==============================================================================\n",
      "\n",
      "Warnings:\n",
      "[1] Standard Errors assume that the covariance matrix of the errors is correctly specified.\n"
     ]
    }
   ],
   "source": [
    "# print the summary of full model from Q2\n",
    "print(MLR_model_full_WO_MC.summary())"
   ]
  },
  {
   "cell_type": "markdown",
   "metadata": {},
   "source": [
    "## Model Evaluation"
   ]
  },
  {
   "cell_type": "markdown",
   "metadata": {},
   "source": [
    "### Coefficient of Determination (R-Squared)"
   ]
  },
  {
   "cell_type": "code",
   "execution_count": 380,
   "metadata": {},
   "outputs": [
    {
     "data": {
      "text/plain": [
       "0.9477760593821606"
      ]
     },
     "execution_count": 380,
     "metadata": {},
     "output_type": "execute_result"
    }
   ],
   "source": [
    "y_test_pred = MLR_model_full_WO_MC.predict(X_test)\n",
    "MLR_model_full_WO_MC_CD = r2_score(y_test,y_test_pred)\n",
    "MLR_model_full_WO_MC_CD "
   ]
  },
  {
   "cell_type": "markdown",
   "metadata": {},
   "source": [
    "### RMSE"
   ]
  },
  {
   "cell_type": "code",
   "execution_count": 381,
   "metadata": {},
   "outputs": [
    {
     "name": "stdout",
     "output_type": "stream",
     "text": [
      "RMSE on test set: 0.2267193678322271\n"
     ]
    }
   ],
   "source": [
    "# compute RMSE on test data\n",
    "# take the square root of the MSE \n",
    "# calculate MSE using 'mean_squared_error()'\n",
    "MLR_model_full_WO_MC_RMSE =  np.sqrt(mean_squared_error(y_test, y_test_pred))\n",
    "print('RMSE on test set:',MLR_model_full_WO_MC_RMSE )"
   ]
  },
  {
   "cell_type": "markdown",
   "metadata": {},
   "source": [
    "Plot a Q-Q plot, to check the normality of the residuals."
   ]
  },
  {
   "cell_type": "code",
   "execution_count": 382,
   "metadata": {},
   "outputs": [
    {
     "data": {
      "image/png": "[encoded data removed]",
      "text/plain": [
       "<Figure size 1080x576 with 1 Axes>"
      ]
     },
     "metadata": {
      "needs_background": "light"
     },
     "output_type": "display_data"
    }
   ],
   "source": [
    "# set the plot size using 'rcParams'\n",
    "# pass width and height in inches to 'figure.figsize' \n",
    "plt.rcParams['figure.figsize'] = [15,8]\n",
    "\n",
    "# plot the Q-Q plot\n",
    "# 'r' represents the regression line\n",
    "# 'resid' returns the residuals \n",
    "qqplot(MLR_model_full.resid, line = 'r')\n",
    "\n",
    "# set plot and axes labels\n",
    "# set text size using 'fontsize'\n",
    "plt.title('Q-Q Plot', fontsize = 15)\n",
    "plt.xlabel('Theoretical Quantiles', fontsize = 15)\n",
    "plt.ylabel('Sample Quantiles', fontsize = 15)\n",
    "\n",
    "# display the plot\n",
    "plt.show()"
   ]
  },
  {
   "cell_type": "markdown",
   "metadata": {},
   "source": [
    "As, the blue points are varying from the regression line, we can say that the residuals are not normal."
   ]
  },
  {
   "cell_type": "code",
   "execution_count": 383,
   "metadata": {},
   "outputs": [
    {
     "name": "stdout",
     "output_type": "stream",
     "text": [
      "Skewness of the residuals:  0.0365392294681385\n"
     ]
    },
    {
     "data": {
      "image/png": "[encoded data removed]",
      "text/plain": [
       "<Figure size 1080x576 with 1 Axes>"
      ]
     },
     "metadata": {
      "needs_background": "light"
     },
     "output_type": "display_data"
    }
   ],
   "source": [
    "# plot a distplot for the residuals\n",
    "sns.distplot(MLR_model_full.resid)\n",
    "\n",
    "# add plot and axis labels\n",
    "# set text size using 'fontsize'\n",
    "plt.title('Distribution of Residuals', fontsize = 15)\n",
    "plt.xlabel('Residuals', fontsize = 15)\n",
    "plt.ylabel('Density', fontsize = 15)\n",
    "\n",
    "# print the skewness of the residuals\n",
    "print(\"Skewness of the residuals: \", MLR_model_full.resid.skew())"
   ]
  },
  {
   "cell_type": "markdown",
   "metadata": {},
   "source": [
    "## Consider only the diagonal width of the fish and construct a linear regression."
   ]
  },
  {
   "cell_type": "code",
   "execution_count": 384,
   "metadata": {},
   "outputs": [
    {
     "name": "stdout",
     "output_type": "stream",
     "text": [
      "                            OLS Regression Results                            \n",
      "==============================================================================\n",
      "Dep. Variable:                  price   R-squared:                       0.939\n",
      "Model:                            OLS   Adj. R-squared:                  0.939\n",
      "Method:                 Least Squares   F-statistic:                 2.213e+04\n",
      "Date:                Sat, 28 Nov 2020   Prob (F-statistic):               0.00\n",
      "Time:                        12:58:52   Log-Likelihood:                -28.638\n",
      "No. Observations:                1436   AIC:                             61.28\n",
      "Df Residuals:                    1434   BIC:                             71.81\n",
      "Df Model:                           1                                         \n",
      "Covariance Type:            nonrobust                                         \n",
      "==============================================================================\n",
      "                 coef    std err          t      P>|t|      [0.025      0.975]\n",
      "------------------------------------------------------------------------------\n",
      "const          0.6849      0.008     84.978      0.000       0.669       0.701\n",
      "Width          1.6570      0.011    148.759      0.000       1.635       1.679\n",
      "==============================================================================\n",
      "Omnibus:                       21.035   Durbin-Watson:                   1.982\n",
      "Prob(Omnibus):                  0.000   Jarque-Bera (JB):               23.481\n",
      "Skew:                           0.241   Prob(JB):                     7.96e-06\n",
      "Kurtosis:                       3.399   Cond. No.                         2.13\n",
      "==============================================================================\n",
      "\n",
      "Warnings:\n",
      "[1] Standard Errors assume that the covariance matrix of the errors is correctly specified.\n"
     ]
    }
   ],
   "source": [
    "# consider the variable 'Width' from 'X_train'\n",
    "X_train_width = X_train['Width']\n",
    "\n",
    "# fit a model with an intercept using fit()\n",
    "# add_constant(): adds the intercept term to the model\n",
    "MLR_WIDTH_full = sm.OLS(y_train, sm.add_constant(X_train_width)).fit()\n",
    "\n",
    "# print the summary output\n",
    "print(MLR_WIDTH_full.summary())"
   ]
  },
  {
   "cell_type": "markdown",
   "metadata": {},
   "source": [
    "Considering only the width, we see that the variable contributes to 84.6% of variation in the weight of a fish. \n",
    "\n",
    "Interpretation of β coefficients:\n",
    "\n",
    "β<sub>const</sub> = -0.0181, represents the weight of a fish considering the width to be 0  <br>\n",
    "\n",
    "β<sub>Width</sub> = 0.8209, it implies that 0.8209 is the average increase in the weight of a fish due to one unit increase in the width."
   ]
  },
  {
   "cell_type": "code",
   "execution_count": 385,
   "metadata": {},
   "outputs": [],
   "source": [
    "y_test_pred = MLR_WIDTH_full.predict(sm.add_constant(X_test['Width']))"
   ]
  },
  {
   "cell_type": "code",
   "execution_count": 386,
   "metadata": {},
   "outputs": [
    {
     "name": "stdout",
     "output_type": "stream",
     "text": [
      "RMSE on test set: 0.24174257017711226\n"
     ]
    }
   ],
   "source": [
    "# compute RMSE on test data\n",
    "# take the square root of the MSE \n",
    "# calculate MSE using 'mean_squared_error()'\n",
    "width_RMSE = np.sqrt(mean_squared_error(y_test, y_test_pred))\n",
    "print('RMSE on test set:', width_RMSE)"
   ]
  },
  {
   "cell_type": "code",
   "execution_count": 387,
   "metadata": {},
   "outputs": [
    {
     "data": {
      "text/plain": [
       "0.9406256777374217"
      ]
     },
     "execution_count": 387,
     "metadata": {},
     "output_type": "execute_result"
    }
   ],
   "source": [
    "width_CD = r2_score(y_test,y_test_pred)\n",
    "width_CD"
   ]
  },
  {
   "cell_type": "markdown",
   "metadata": {},
   "source": [
    "# Forward Selection"
   ]
  },
  {
   "cell_type": "code",
   "execution_count": 388,
   "metadata": {},
   "outputs": [
    {
     "name": "stderr",
     "output_type": "stream",
     "text": [
      "[Parallel(n_jobs=1)]: Using backend SequentialBackend with 1 concurrent workers.\n",
      "[Parallel(n_jobs=1)]: Done   1 out of   1 | elapsed:    0.0s remaining:    0.0s\n",
      "[Parallel(n_jobs=1)]: Done  12 out of  12 | elapsed:    0.0s finished\n",
      "\n",
      "[2020-11-28 12:58:53] Features: 1/12 -- score: 0.9387047625388785[Parallel(n_jobs=1)]: Using backend SequentialBackend with 1 concurrent workers.\n",
      "[Parallel(n_jobs=1)]: Done   1 out of   1 | elapsed:    0.0s remaining:    0.0s\n",
      "[Parallel(n_jobs=1)]: Done  11 out of  11 | elapsed:    0.0s finished\n",
      "\n",
      "[2020-11-28 12:58:53] Features: 2/12 -- score: 0.9437417660171228[Parallel(n_jobs=1)]: Using backend SequentialBackend with 1 concurrent workers.\n",
      "[Parallel(n_jobs=1)]: Done   1 out of   1 | elapsed:    0.0s remaining:    0.0s\n",
      "[Parallel(n_jobs=1)]: Done  10 out of  10 | elapsed:    0.0s finished\n",
      "\n",
      "[2020-11-28 12:58:53] Features: 3/12 -- score: 0.9471158797650597[Parallel(n_jobs=1)]: Using backend SequentialBackend with 1 concurrent workers.\n",
      "[Parallel(n_jobs=1)]: Done   1 out of   1 | elapsed:    0.0s remaining:    0.0s\n",
      "[Parallel(n_jobs=1)]: Done   9 out of   9 | elapsed:    0.0s finished\n",
      "\n",
      "[2020-11-28 12:58:53] Features: 4/12 -- score: 0.9499381531680104[Parallel(n_jobs=1)]: Using backend SequentialBackend with 1 concurrent workers.\n",
      "[Parallel(n_jobs=1)]: Done   1 out of   1 | elapsed:    0.0s remaining:    0.0s\n",
      "[Parallel(n_jobs=1)]: Done   8 out of   8 | elapsed:    0.0s finished\n",
      "\n",
      "[2020-11-28 12:58:53] Features: 5/12 -- score: 0.9511469177242287[Parallel(n_jobs=1)]: Using backend SequentialBackend with 1 concurrent workers.\n",
      "[Parallel(n_jobs=1)]: Done   1 out of   1 | elapsed:    0.0s remaining:    0.0s\n",
      "[Parallel(n_jobs=1)]: Done   7 out of   7 | elapsed:    0.0s finished\n",
      "\n",
      "[2020-11-28 12:58:53] Features: 6/12 -- score: 0.9514299743374182[Parallel(n_jobs=1)]: Using backend SequentialBackend with 1 concurrent workers.\n",
      "[Parallel(n_jobs=1)]: Done   1 out of   1 | elapsed:    0.0s remaining:    0.0s\n",
      "[Parallel(n_jobs=1)]: Done   6 out of   6 | elapsed:    0.0s finished\n",
      "\n",
      "[2020-11-28 12:58:53] Features: 7/12 -- score: 0.9514263722767075[Parallel(n_jobs=1)]: Using backend SequentialBackend with 1 concurrent workers.\n",
      "[Parallel(n_jobs=1)]: Done   1 out of   1 | elapsed:    0.0s remaining:    0.0s\n",
      "[Parallel(n_jobs=1)]: Done   5 out of   5 | elapsed:    0.0s finished\n",
      "\n",
      "[2020-11-28 12:58:53] Features: 8/12 -- score: 0.9514499579324596[Parallel(n_jobs=1)]: Using backend SequentialBackend with 1 concurrent workers.\n",
      "[Parallel(n_jobs=1)]: Done   1 out of   1 | elapsed:    0.0s remaining:    0.0s\n",
      "[Parallel(n_jobs=1)]: Done   4 out of   4 | elapsed:    0.0s finished\n",
      "\n",
      "[2020-11-28 12:58:53] Features: 9/12 -- score: 0.9514252827573157[Parallel(n_jobs=1)]: Using backend SequentialBackend with 1 concurrent workers.\n",
      "[Parallel(n_jobs=1)]: Done   1 out of   1 | elapsed:    0.0s remaining:    0.0s\n",
      "[Parallel(n_jobs=1)]: Done   3 out of   3 | elapsed:    0.0s finished\n",
      "\n",
      "[2020-11-28 12:58:53] Features: 10/12 -- score: 0.951377187081553[Parallel(n_jobs=1)]: Using backend SequentialBackend with 1 concurrent workers.\n",
      "[Parallel(n_jobs=1)]: Done   1 out of   1 | elapsed:    0.0s remaining:    0.0s\n",
      "[Parallel(n_jobs=1)]: Done   2 out of   2 | elapsed:    0.0s finished\n",
      "\n",
      "[2020-11-28 12:58:53] Features: 11/12 -- score: 0.9513304950875348[Parallel(n_jobs=1)]: Using backend SequentialBackend with 1 concurrent workers.\n",
      "[Parallel(n_jobs=1)]: Done   1 out of   1 | elapsed:    0.0s remaining:    0.0s\n",
      "[Parallel(n_jobs=1)]: Done   1 out of   1 | elapsed:    0.0s finished\n",
      "\n",
      "[2020-11-28 12:58:53] Features: 12/12 -- score: 0.9518717432551774"
     ]
    },
    {
     "data": {
      "text/plain": [
       "('Width',\n",
       " 'Height',\n",
       " 'Species_Good',\n",
       " 'Species_Ideal',\n",
       " 'Species_Premium',\n",
       " 'Species_Very Good',\n",
       " 'color_E',\n",
       " 'color_F',\n",
       " 'color_G',\n",
       " 'color_H',\n",
       " 'color_I',\n",
       " 'color_J')"
      ]
     },
     "execution_count": 388,
     "metadata": {},
     "output_type": "execute_result"
    }
   ],
   "source": [
    "# Build step forward selection\n",
    "# pass the regression model to 'estimator'\n",
    "# pass number of required feartures to 'k_features'. 'best' means that a best possible subset will be selected  \n",
    "# 'forward=True' performs forward selection method\n",
    "# 'verbose=2' returns the R-squared scores and the number of features at the corresponding step\n",
    "# 'scoring=r2' considers R-squared score to select the feature\n",
    "! pip install mlxtend\n",
    "from mlxtend.feature_selection import SequentialFeatureSelector as sfs\n",
    "from sklearn.linear_model import LinearRegression\n",
    "linreg=LinearRegression()\n",
    "\n",
    "linreg_forward = sfs(estimator = linreg, k_features = 'best', forward = True,\n",
    "                     verbose = 2, scoring = 'r2')\n",
    "\n",
    "# fit the step forward selection on training data using fit()\n",
    "sfs_forward = linreg_forward.fit(X_train, y_train)\n",
    "\n",
    "# feature names of the selected feature subsets\n",
    "sfs_forward.k_feature_names_"
   ]
  },
  {
   "cell_type": "markdown",
   "metadata": {},
   "source": [
    "The above output returns the best predictors that can be used to predict the price of a diamond."
   ]
  },
  {
   "cell_type": "code",
   "execution_count": 389,
   "metadata": {},
   "outputs": [
    {
     "data": {
      "text/plain": [
       "SequentialFeatureSelector(estimator=LinearRegression(), k_features='best',\n",
       "                          scoring='r2', verbose=2)"
      ]
     },
     "execution_count": 389,
     "metadata": {},
     "output_type": "execute_result"
    }
   ],
   "source": [
    "sfs_forward"
   ]
  },
  {
   "cell_type": "code",
   "execution_count": 390,
   "metadata": {},
   "outputs": [
    {
     "name": "stdout",
     "output_type": "stream",
     "text": [
      "Features selelected using forward selection are: \n",
      "('Width', 'Height', 'Species_Good', 'Species_Ideal', 'Species_Premium', 'Species_Very Good', 'color_E', 'color_F', 'color_G', 'color_H', 'color_I', 'color_J')\n",
      "\n",
      "R-Squared:  0.9518717432551774\n"
     ]
    }
   ],
   "source": [
    "# print the selected feature names when k_features = 14\n",
    "print('Features selelected using forward selection are: ')\n",
    "print(sfs_forward.k_feature_names_)\n",
    "\n",
    "# print the R-squared value\n",
    "print('\\nR-Squared: ', sfs_forward.k_score_)"
   ]
  },
  {
   "cell_type": "code",
   "execution_count": 391,
   "metadata": {},
   "outputs": [
    {
     "data": {
      "text/plain": [
       "0.9528399703456385"
      ]
     },
     "execution_count": 391,
     "metadata": {},
     "output_type": "execute_result"
    }
   ],
   "source": [
    "# store the X_train with significant variables in new_X_train\n",
    "new_X_train = X_train[['Width', 'Height', 'Species_Good', 'Species_Ideal', 'Species_Premium', 'Species_Very Good', \n",
    "                       'color_E', 'color_F', 'color_G', 'color_H', 'color_I', 'color_J']]\n",
    "\n",
    "# initiate linear regression\n",
    "linreg = LinearRegression()\n",
    "\n",
    "# build the model using new_X_train and y_train\n",
    "linreg.fit(new_X_train, y_train)\n",
    "\n",
    "# check the score\n",
    "linreg.score(new_X_train, y_train)"
   ]
  },
  {
   "cell_type": "code",
   "execution_count": 392,
   "metadata": {},
   "outputs": [
    {
     "data": {
      "text/plain": [
       "0.9562488434937118"
      ]
     },
     "execution_count": 392,
     "metadata": {},
     "output_type": "execute_result"
    }
   ],
   "source": [
    "y_test_pred = linreg.predict(X_test[['Width', 'Height', 'Species_Good', 'Species_Ideal', 'Species_Premium',\n",
    "                                     'Species_Very Good', 'color_E', 'color_F', 'color_G', 'color_H', 'color_I', 'color_J']])\n",
    "FS_CD = r2_score(y_test,y_test_pred)\n",
    "FS_CD"
   ]
  },
  {
   "cell_type": "code",
   "execution_count": 393,
   "metadata": {},
   "outputs": [
    {
     "name": "stdout",
     "output_type": "stream",
     "text": [
      "RMSE on test set: 0.20751455876319985\n"
     ]
    }
   ],
   "source": [
    "# compute RMSE on test data\n",
    "# take the square root of the MSE \n",
    "# calculate MSE using 'mean_squared_error()'\n",
    "FS_RMSE = np.sqrt(mean_squared_error(y_test, y_test_pred))\n",
    "print('RMSE on test set:', FS_RMSE)"
   ]
  },
  {
   "cell_type": "markdown",
   "metadata": {},
   "source": [
    "# Backward Elimination"
   ]
  },
  {
   "cell_type": "code",
   "execution_count": 394,
   "metadata": {},
   "outputs": [
    {
     "name": "stderr",
     "output_type": "stream",
     "text": [
      "[Parallel(n_jobs=1)]: Using backend SequentialBackend with 1 concurrent workers.\n",
      "[Parallel(n_jobs=1)]: Done   1 out of   1 | elapsed:    0.0s remaining:    0.0s\n",
      "[Parallel(n_jobs=1)]: Done  12 out of  12 | elapsed:    0.0s finished\n",
      "\n",
      "[2020-11-28 12:58:54] Features: 11/1 -- score: 0.95190706145336[Parallel(n_jobs=1)]: Using backend SequentialBackend with 1 concurrent workers.\n",
      "[Parallel(n_jobs=1)]: Done   1 out of   1 | elapsed:    0.0s remaining:    0.0s\n",
      "[Parallel(n_jobs=1)]: Done  11 out of  11 | elapsed:    0.0s finished\n",
      "\n",
      "[2020-11-28 12:58:54] Features: 10/1 -- score: 0.9519394945243167[Parallel(n_jobs=1)]: Using backend SequentialBackend with 1 concurrent workers.\n",
      "[Parallel(n_jobs=1)]: Done   1 out of   1 | elapsed:    0.0s remaining:    0.0s\n",
      "[Parallel(n_jobs=1)]: Done  10 out of  10 | elapsed:    0.0s finished\n",
      "\n",
      "[2020-11-28 12:58:54] Features: 9/1 -- score: 0.9519083307971453[Parallel(n_jobs=1)]: Using backend SequentialBackend with 1 concurrent workers.\n",
      "[Parallel(n_jobs=1)]: Done   1 out of   1 | elapsed:    0.0s remaining:    0.0s\n",
      "[Parallel(n_jobs=1)]: Done   9 out of   9 | elapsed:    0.0s finished\n",
      "\n",
      "[2020-11-28 12:58:54] Features: 8/1 -- score: 0.9519096171619308[Parallel(n_jobs=1)]: Using backend SequentialBackend with 1 concurrent workers.\n",
      "[Parallel(n_jobs=1)]: Done   1 out of   1 | elapsed:    0.0s remaining:    0.0s\n",
      "[Parallel(n_jobs=1)]: Done   8 out of   8 | elapsed:    0.0s finished\n",
      "\n",
      "[2020-11-28 12:58:54] Features: 7/1 -- score: 0.9517791223855248[Parallel(n_jobs=1)]: Using backend SequentialBackend with 1 concurrent workers.\n",
      "[Parallel(n_jobs=1)]: Done   1 out of   1 | elapsed:    0.0s remaining:    0.0s\n",
      "[Parallel(n_jobs=1)]: Done   7 out of   7 | elapsed:    0.0s finished\n",
      "\n",
      "[2020-11-28 12:58:54] Features: 6/1 -- score: 0.9512489640732188[Parallel(n_jobs=1)]: Using backend SequentialBackend with 1 concurrent workers.\n",
      "[Parallel(n_jobs=1)]: Done   1 out of   1 | elapsed:    0.0s remaining:    0.0s\n",
      "[Parallel(n_jobs=1)]: Done   6 out of   6 | elapsed:    0.0s finished\n",
      "\n",
      "[2020-11-28 12:58:54] Features: 5/1 -- score: 0.9511469177242287[Parallel(n_jobs=1)]: Using backend SequentialBackend with 1 concurrent workers.\n",
      "[Parallel(n_jobs=1)]: Done   1 out of   1 | elapsed:    0.0s remaining:    0.0s\n",
      "[Parallel(n_jobs=1)]: Done   5 out of   5 | elapsed:    0.0s finished\n",
      "\n",
      "[2020-11-28 12:58:55] Features: 4/1 -- score: 0.9499381531680104[Parallel(n_jobs=1)]: Using backend SequentialBackend with 1 concurrent workers.\n",
      "[Parallel(n_jobs=1)]: Done   1 out of   1 | elapsed:    0.0s remaining:    0.0s\n",
      "[Parallel(n_jobs=1)]: Done   4 out of   4 | elapsed:    0.0s finished\n",
      "\n",
      "[2020-11-28 12:58:55] Features: 3/1 -- score: 0.9471158797650597[Parallel(n_jobs=1)]: Using backend SequentialBackend with 1 concurrent workers.\n",
      "[Parallel(n_jobs=1)]: Done   1 out of   1 | elapsed:    0.0s remaining:    0.0s\n",
      "[Parallel(n_jobs=1)]: Done   3 out of   3 | elapsed:    0.0s finished\n",
      "\n",
      "[2020-11-28 12:58:55] Features: 2/1 -- score: 0.9437417660171228[Parallel(n_jobs=1)]: Using backend SequentialBackend with 1 concurrent workers.\n",
      "[Parallel(n_jobs=1)]: Done   1 out of   1 | elapsed:    0.0s remaining:    0.0s\n",
      "[Parallel(n_jobs=1)]: Done   2 out of   2 | elapsed:    0.0s finished\n",
      "\n",
      "[2020-11-28 12:58:55] Features: 1/1 -- score: 0.9387047625388785"
     ]
    },
    {
     "data": {
      "text/plain": [
       "('Width',\n",
       " 'Species_Good',\n",
       " 'Species_Ideal',\n",
       " 'Species_Premium',\n",
       " 'Species_Very Good',\n",
       " 'color_E',\n",
       " 'color_G',\n",
       " 'color_H',\n",
       " 'color_I',\n",
       " 'color_J')"
      ]
     },
     "execution_count": 394,
     "metadata": {},
     "output_type": "execute_result"
    }
   ],
   "source": [
    "# Build step backward selection\n",
    "# pass the regression model to 'estimator'\n",
    "# pass number of required feartures to 'k_features'  \n",
    "# 'forward=False' performs backward selection method\n",
    "# 'verbose=1' returns the number of features at the corresponding step\n",
    "# 'verbose=2' returns the R-squared scores and the number of features at the corresponding step\n",
    "# 'scoring=r2' considers R-squared score to select the feature\n",
    "linreg_backward = sfs(estimator = linreg, k_features = 'best', forward = False,\n",
    "                     verbose = 2, scoring = 'r2')\n",
    "\n",
    "# fit the step backward selection on training data using fit()\n",
    "sfs_backward = linreg_backward.fit(X_train, y_train)\n",
    "\n",
    "# feature names of the selected feature subsets\n",
    "sfs_backward.k_feature_names_"
   ]
  },
  {
   "cell_type": "code",
   "execution_count": 395,
   "metadata": {},
   "outputs": [
    {
     "name": "stdout",
     "output_type": "stream",
     "text": [
      "Features selelected using forward selection are: \n",
      "('Width', 'Species_Good', 'Species_Ideal', 'Species_Premium', 'Species_Very Good', 'color_E', 'color_G', 'color_H', 'color_I', 'color_J')\n",
      "\n",
      "R-Squared:  0.9519394945243167\n"
     ]
    }
   ],
   "source": [
    "# print the selected feature names when k_features = 14\n",
    "print('Features selelected using forward selection are: ')\n",
    "print(sfs_backward.k_feature_names_)\n",
    "\n",
    "# print the R-squared value\n",
    "print('\\nR-Squared: ', sfs_backward.k_score_)"
   ]
  },
  {
   "cell_type": "code",
   "execution_count": 396,
   "metadata": {},
   "outputs": [
    {
     "data": {
      "text/plain": [
       "0.9528215102688503"
      ]
     },
     "execution_count": 396,
     "metadata": {},
     "output_type": "execute_result"
    }
   ],
   "source": [
    "# store the X_train with significant variables in new_X_train\n",
    "new_X_train = X_train[['Width', 'Species_Good', 'Species_Ideal', 'Species_Premium', 'Species_Very Good', 'color_E', \n",
    "                       'color_G', 'color_H', 'color_I', 'color_J']]\n",
    "\n",
    "# initiate linear regression\n",
    "linreg = LinearRegression()\n",
    "\n",
    "# build the model using new_X_train and y_train\n",
    "linreg.fit(new_X_train, y_train)\n",
    "\n",
    "# check the score\n",
    "linreg.score(new_X_train, y_train)"
   ]
  },
  {
   "cell_type": "code",
   "execution_count": 397,
   "metadata": {},
   "outputs": [
    {
     "data": {
      "text/plain": [
       "0.9562982587786762"
      ]
     },
     "execution_count": 397,
     "metadata": {},
     "output_type": "execute_result"
    }
   ],
   "source": [
    "y_test_pred = linreg.predict(X_test[['Width', 'Species_Good', 'Species_Ideal', 'Species_Premium', 'Species_Very Good',\n",
    "                                     'color_E', 'color_G', 'color_H', 'color_I', 'color_J']])\n",
    "BE_CD = r2_score(y_test,y_test_pred)\n",
    "BE_CD"
   ]
  },
  {
   "cell_type": "code",
   "execution_count": 398,
   "metadata": {},
   "outputs": [
    {
     "name": "stdout",
     "output_type": "stream",
     "text": [
      "RMSE on test set: 0.20739733571130625\n"
     ]
    }
   ],
   "source": [
    "# compute RMSE on test data\n",
    "# take the square root of the MSE \n",
    "# calculate MSE using 'mean_squared_error()'\n",
    "BE_RMSE = np.sqrt(mean_squared_error(y_test, y_test_pred))\n",
    "print('RMSE on test set:', BE_RMSE)"
   ]
  },
  {
   "cell_type": "markdown",
   "metadata": {},
   "source": [
    "The output shows the seven most significant features in the dataset. "
   ]
  },
  {
   "cell_type": "markdown",
   "metadata": {},
   "source": [
    "# Recursive Feature Elimination"
   ]
  },
  {
   "cell_type": "markdown",
   "metadata": {},
   "source": [
    "Apply RFE on the dataset to obtain the five features."
   ]
  },
  {
   "cell_type": "code",
   "execution_count": 399,
   "metadata": {},
   "outputs": [
    {
     "name": "stdout",
     "output_type": "stream",
     "text": [
      "Index(['Width', 'Species_Ideal', 'color_H', 'color_I', 'color_J'], dtype='object')\n"
     ]
    }
   ],
   "source": [
    "# initiate linear regression model to use in feature selection\n",
    "linreg_rfe = LinearRegression()\n",
    "\n",
    "# Build the RFE model\n",
    "# pass the regression model to 'estimator'\n",
    "# pass number of required features to 'n_features_to_select'\n",
    "# if we do not pass the number of features, RFE considers half of the features\n",
    "rfe_model = RFE(estimator=linreg_rfe, n_features_to_select = 5)\n",
    "\n",
    "# fit the RFE model on the training dataset using fit()\n",
    "rfe_model = rfe_model.fit(X_train, y_train)\n",
    "\n",
    "# create a series containing feature and its corresponding rank obtained from RFE\n",
    "# 'ranking_' returns the rank of each variable after applying RFE\n",
    "# pass the ranks as the 'data' of a series\n",
    "# 'index' assigns feature names as index of a series \n",
    "feat_index = pd.Series(data = rfe_model.ranking_, index = X_train.columns)\n",
    "\n",
    "# select the features with rank = 1\n",
    "# 'index' returns the indices of a series (i.e. features with rank=1) \n",
    "signi_feat_rfe = feat_index[feat_index==1].index\n",
    "\n",
    "# print the significant features obtained from RFE\n",
    "print(signi_feat_rfe)"
   ]
  },
  {
   "cell_type": "markdown",
   "metadata": {},
   "source": [
    "Let us build the model using the features obtained above. "
   ]
  },
  {
   "cell_type": "code",
   "execution_count": 400,
   "metadata": {},
   "outputs": [
    {
     "data": {
      "text/plain": [
       "0.9517764142346544"
      ]
     },
     "execution_count": 400,
     "metadata": {},
     "output_type": "execute_result"
    }
   ],
   "source": [
    "# store the X_train with significant variables in new_X_train\n",
    "new_X_train = X_train[['Width', 'Species_Ideal', 'color_H', 'color_I', 'color_J']]\n",
    "\n",
    "# initiate linear regression\n",
    "linreg_rfe = LinearRegression()\n",
    "\n",
    "# build the model using new_X_train and y_train\n",
    "linreg_rfe.fit(new_X_train, y_train)\n",
    "\n",
    "# check the score\n",
    "linreg_rfe.score(new_X_train, y_train)"
   ]
  },
  {
   "cell_type": "code",
   "execution_count": 401,
   "metadata": {},
   "outputs": [
    {
     "data": {
      "text/plain": [
       "0.9562717565134918"
      ]
     },
     "execution_count": 401,
     "metadata": {},
     "output_type": "execute_result"
    }
   ],
   "source": [
    "y_test_pred = linreg_rfe.predict(X_test[['Width', 'Species_Ideal', 'color_H', 'color_I', 'color_J']])\n",
    "linreg_rfe_CD = r2_score(y_test , y_test_pred)\n",
    "linreg_rfe_CD "
   ]
  },
  {
   "cell_type": "code",
   "execution_count": 402,
   "metadata": {},
   "outputs": [
    {
     "name": "stdout",
     "output_type": "stream",
     "text": [
      "RMSE on test set: 0.20746021268109271\n"
     ]
    }
   ],
   "source": [
    "# compute RMSE on test data\n",
    "# take the square root of the MSE \n",
    "# calculate MSE using 'mean_squared_error()'\n",
    "linreg_rfe_RMSE = np.sqrt(mean_squared_error(y_test, y_test_pred))\n",
    "print('RMSE on test set:', linreg_rfe_RMSE )"
   ]
  },
  {
   "cell_type": "markdown",
   "metadata": {},
   "source": [
    "# Ridge Regression"
   ]
  },
  {
   "cell_type": "code",
   "execution_count": 403,
   "metadata": {},
   "outputs": [
    {
     "name": "stdout",
     "output_type": "stream",
     "text": [
      "Best parameter for Ridge Regression:  {'alpha': 0.1} \n",
      "\n"
     ]
    }
   ],
   "source": [
    "# 'alpha' assigns the regularization strength to the model\n",
    "tuned_paramaters = [{'alpha':[0.00001, 0.001, 0.1, 10, 100]}]\n",
    " \n",
    "# instantiate the Ridge() method\n",
    "ridge = Ridge()\n",
    "\n",
    "# use GridSearchCV() to find the optimal value of alpha\n",
    "# estimator: pass the ridge regression model\n",
    "# param_grid: pass the list 'tuned_parameters'\n",
    "# cv: number of folds in k-fold i.e. here cv = 5\n",
    "ridge_grid = GridSearchCV(estimator = ridge, param_grid = tuned_paramaters, cv = 5)\n",
    "\n",
    "# fit the model on X_train and y_train using fit()\n",
    "ridge_grid.fit(X_train, y_train)\n",
    "\n",
    "# get the best parameter\n",
    "print('Best parameter for Ridge Regression: ', ridge_grid.best_params_, '\\n')"
   ]
  },
  {
   "cell_type": "code",
   "execution_count": 404,
   "metadata": {},
   "outputs": [],
   "source": [
    "# use Ridge() to perform ridge regression\n",
    "# 'alpha' assigns the regularization strength to the model\n",
    "ridge = Ridge(alpha = 0.1)\n",
    "\n",
    "# fit the model on train set using fit()\n",
    "ridge_model = ridge.fit(X_train, y_train)\n",
    "\n",
    "# predict the values of target variable using test data\n",
    "y_test_pred = ridge_model.predict(X_test)"
   ]
  },
  {
   "cell_type": "code",
   "execution_count": 405,
   "metadata": {},
   "outputs": [
    {
     "name": "stdout",
     "output_type": "stream",
     "text": [
      "RMSE on test set: 0.20749711631077794\n"
     ]
    }
   ],
   "source": [
    "# compute RMSE on test data\n",
    "# take the square root of the MSE \n",
    "# calculate MSE using 'mean_squared_error()'\n",
    "RIDGE_RMSE = np.sqrt(mean_squared_error(y_test, y_test_pred))\n",
    "print('RMSE on test set:', RIDGE_RMSE )"
   ]
  },
  {
   "cell_type": "code",
   "execution_count": 406,
   "metadata": {},
   "outputs": [
    {
     "data": {
      "text/plain": [
       "0.9562561981140171"
      ]
     },
     "execution_count": 406,
     "metadata": {},
     "output_type": "execute_result"
    }
   ],
   "source": [
    "RIDGE_CD  = r2_score(y_test , y_test_pred)\n",
    "RIDGE_CD "
   ]
  },
  {
   "cell_type": "markdown",
   "metadata": {},
   "source": [
    "# Stochastic Gradient Descent"
   ]
  },
  {
   "cell_type": "code",
   "execution_count": 407,
   "metadata": {},
   "outputs": [
    {
     "name": "stdout",
     "output_type": "stream",
     "text": [
      "RMSE on train set: 0.21729661853850463\n",
      "RMSE on test set: 0.20751455876319985\n"
     ]
    }
   ],
   "source": [
    "# initiate linear regression model\n",
    "linreg = LinearRegression()\n",
    "\n",
    "# build the model using X_train and y_train\n",
    "# use fit() to fit the regression model\n",
    "MLR_full_model = linreg.fit(X_train, y_train)\n",
    "\n",
    "# predict the values of target variable using train data\n",
    "y_train_pred = MLR_full_model.predict(X_train)\n",
    "\n",
    "# compute RMSE on train data\n",
    "# take the square root of the MSE \n",
    "# calculate MSE using 'mean_squared_error()'\n",
    "print('RMSE on train set:', np.sqrt(mean_squared_error(y_train, y_train_pred)))\n",
    "\n",
    "# predict the values of target variable using test data\n",
    "y_test_pred = MLR_full_model.predict(X_test)\n",
    "\n",
    "# compute RMSE on test data\n",
    "# take the square root of the MSE \n",
    "# calculate MSE using 'mean_squared_error()'\n",
    "print('RMSE on test set:', np.sqrt(mean_squared_error(y_test, y_test_pred)))"
   ]
  },
  {
   "cell_type": "code",
   "execution_count": 408,
   "metadata": {},
   "outputs": [],
   "source": [
    "# instantiate the SGDRegressor\n",
    "# set 'random_state' to generate the same dataset each time you run the code \n",
    "sgd = SGDRegressor(random_state = 1)\n",
    "\n",
    "# build the model on train data \n",
    "# use fit() to fit the model\n",
    "linreg_with_SGD = sgd.fit(X_train, y_train)"
   ]
  },
  {
   "cell_type": "code",
   "execution_count": 409,
   "metadata": {},
   "outputs": [],
   "source": [
    "# predict the values of target variable using test data\n",
    "y_test_pred = linreg_with_SGD.predict(X_test)"
   ]
  },
  {
   "cell_type": "code",
   "execution_count": 410,
   "metadata": {},
   "outputs": [
    {
     "name": "stdout",
     "output_type": "stream",
     "text": [
      "RMSE on test set: 0.21745306562203365\n"
     ]
    }
   ],
   "source": [
    "# compute RMSE on test data\n",
    "# take the square root of the MSE \n",
    "# calculate MSE using 'mean_squared_error()'\n",
    "SGD_RMSE = np.sqrt(mean_squared_error(y_test, y_test_pred))\n",
    "print('RMSE on test set:', SGD_RMSE )"
   ]
  },
  {
   "cell_type": "code",
   "execution_count": 411,
   "metadata": {},
   "outputs": [
    {
     "data": {
      "text/plain": [
       "0.9519577361182097"
      ]
     },
     "execution_count": 411,
     "metadata": {},
     "output_type": "execute_result"
    }
   ],
   "source": [
    "SGD_CD  = r2_score(y_test , y_test_pred)\n",
    "SGD_CD "
   ]
  },
  {
   "cell_type": "markdown",
   "metadata": {},
   "source": [
    "We can observe that the coefficients obtained from the SGD model have smaller values as compared to the values obtained from the linear regression model using OLS."
   ]
  },
  {
   "cell_type": "markdown",
   "metadata": {},
   "source": [
    "# Lasso Regression"
   ]
  },
  {
   "cell_type": "markdown",
   "metadata": {},
   "source": [
    "### Choose Value of alpha"
   ]
  },
  {
   "cell_type": "code",
   "execution_count": 412,
   "metadata": {},
   "outputs": [
    {
     "name": "stdout",
     "output_type": "stream",
     "text": [
      "Best parameter for Lasso Regression:  {'alpha': 0.0001} \n",
      "\n"
     ]
    }
   ],
   "source": [
    "# create a dictionary with hyperparameters and its values\n",
    "# 'alpha' assigns the regularization strength to the model\n",
    "tuned_paramaters = [{'alpha':[0.0001, 0.001, 0.1, 1, 2, 3]}]\n",
    "                     \n",
    "# instantiate the lasso() method\n",
    "lasso = Lasso()\n",
    "\n",
    "# use GridSearchCV() to find the optimal value of alpha\n",
    "# estimator: pass the lasso regression model\n",
    "# param_grid: pass the list 'tuned_parameters'\n",
    "# cv: number of folds in k-fold i.e. here cv = 5\n",
    "lasso_grid = GridSearchCV(estimator = lasso, param_grid = tuned_paramaters, cv = 5)\n",
    "\n",
    "# fit the model on X_train and y_train using fit()\n",
    "lasso_grid.fit(X_train, y_train)\n",
    "\n",
    "# get the best parameters\n",
    "print('Best parameter for Lasso Regression: ', lasso_grid.best_params_, '\\n')"
   ]
  },
  {
   "cell_type": "code",
   "execution_count": 413,
   "metadata": {},
   "outputs": [],
   "source": [
    "# use Lasso() to perform lasso regression\n",
    "# 'alpha' assigns the regularization strength to the model\n",
    "lasso = Lasso(alpha = 0.0001)\n",
    "\n",
    "# fit the model on train set using fit()\n",
    "lasso_model = lasso.fit(X_train, y_train)"
   ]
  },
  {
   "cell_type": "markdown",
   "metadata": {},
   "source": [
    "The least significant variable will be the one with zero coefficient value."
   ]
  },
  {
   "cell_type": "code",
   "execution_count": 414,
   "metadata": {},
   "outputs": [],
   "source": [
    "y_test_pred = lasso_model.predict(X_test)"
   ]
  },
  {
   "cell_type": "code",
   "execution_count": 415,
   "metadata": {},
   "outputs": [
    {
     "name": "stdout",
     "output_type": "stream",
     "text": [
      "RMSE on test set: 0.20735756680572667\n"
     ]
    }
   ],
   "source": [
    "# compute RMSE on test data\n",
    "# take the square root of the MSE \n",
    "# calculate MSE using 'mean_squared_error()'\n",
    "LASSO_RMSE = np.sqrt(mean_squared_error(y_test, y_test_pred))\n",
    "print('RMSE on test set:', LASSO_RMSE )"
   ]
  },
  {
   "cell_type": "code",
   "execution_count": 416,
   "metadata": {},
   "outputs": [
    {
     "data": {
      "text/plain": [
       "0.9563150169861475"
      ]
     },
     "execution_count": 416,
     "metadata": {},
     "output_type": "execute_result"
    }
   ],
   "source": [
    "LASSO_CD  = r2_score(y_test , y_test_pred)\n",
    "LASSO_CD "
   ]
  },
  {
   "cell_type": "markdown",
   "metadata": {},
   "source": [
    "# Elastic net model"
   ]
  },
  {
   "cell_type": "code",
   "execution_count": 417,
   "metadata": {},
   "outputs": [
    {
     "name": "stdout",
     "output_type": "stream",
     "text": [
      "Best parameter for Elastic Net Regression:  \n",
      " {'alpha': 0.0001, 'l1_ratio': 0.0001, 'max_iter': 20}\n"
     ]
    }
   ],
   "source": [
    "# create a dictionary with hyperparameters and its values\n",
    "# 'l1_ratio' is the elastic net mixing parameter\n",
    "tuned_paramaters = [{\"l1_ratio\":[0.0001, 0.001, 0.01, 0.1, 1],\n",
    "                     \"max_iter\": [1, 5, 10, 15, 20],\n",
    "                     \"alpha\": [0.0001, 0.001, 0.01, 0.1, 1, 10, 100]}]\n",
    "\n",
    "# instantiate the ElasticNet() method\n",
    "enet = ElasticNet()\n",
    "\n",
    "# use GridSearchCV() to find the optimal value of l1_ratio\n",
    "# estimator: pass the elastic net regression model\n",
    "# param_grid: pass the list 'tuned_parameters'\n",
    "# cv: number of folds in k-fold i.e. here cv = 5\n",
    "enet_grid = GridSearchCV(estimator = enet, param_grid = tuned_paramaters, cv = 5)\n",
    "\n",
    "# fit the model on X_train and y_train using fit()\n",
    "enet_grid.fit(X_train, y_train)\n",
    "\n",
    "# get the best parameters\n",
    "print('Best parameter for Elastic Net Regression: ', '\\n', enet_grid.best_params_)"
   ]
  },
  {
   "cell_type": "code",
   "execution_count": 418,
   "metadata": {},
   "outputs": [
    {
     "name": "stdout",
     "output_type": "stream",
     "text": [
      "RMSE on test set: 0.20739829610923177\n"
     ]
    }
   ],
   "source": [
    "# use ElasticNet() to perform Elastic Net regression\n",
    "# 'alpha' assigns the regularization strength to the model\n",
    "# 'l1_ratio' is the ElasticNet mixing parameter\n",
    "# 'enet_grid' is the elastic net model using GridSearchCV\n",
    "# 'best_params_' returns the dictionary containig best parameter values and parameter name  \n",
    "# 'get()' returns the value of specified parameter\n",
    "enet = ElasticNet(alpha = 0.0001, l1_ratio = 0.0001, max_iter = 20)\n",
    "\n",
    "# fit the model on train data using fit()\n",
    "enet_model = enet.fit(X_train, y_train)\n",
    "\n",
    "# predict the values of target variable using test data\n",
    "y_test_pred = enet_model.predict(X_test)\n",
    "\n",
    "# compute RMSE on test data\n",
    "# take the square root of the MSE \n",
    "# calculate MSE using 'mean_squared_error()'\n",
    "ELASTIC_RMSE = np.sqrt(mean_squared_error(y_test, y_test_pred))\n",
    "print('RMSE on test set:', ELASTIC_RMSE)"
   ]
  },
  {
   "cell_type": "code",
   "execution_count": 419,
   "metadata": {},
   "outputs": [
    {
     "data": {
      "text/plain": [
       "0.9562978540371336"
      ]
     },
     "execution_count": 419,
     "metadata": {},
     "output_type": "execute_result"
    }
   ],
   "source": [
    "ELASTIC_CD = r2_score(y_test,y_test_pred)\n",
    "ELASTIC_CD"
   ]
  },
  {
   "cell_type": "markdown",
   "metadata": {},
   "source": [
    "## Summary"
   ]
  },
  {
   "cell_type": "code",
   "execution_count": 420,
   "metadata": {},
   "outputs": [
    {
     "data": {
      "text/html": [
       "<div>\n",
       "<style scoped>\n",
       "    .dataframe tbody tr th:only-of-type {\n",
       "        vertical-align: middle;\n",
       "    }\n",
       "\n",
       "    .dataframe tbody tr th {\n",
       "        vertical-align: top;\n",
       "    }\n",
       "\n",
       "    .dataframe thead th {\n",
       "        text-align: right;\n",
       "    }\n",
       "</style>\n",
       "<table border=\"1\" class=\"dataframe\">\n",
       "  <thead>\n",
       "    <tr style=\"text-align: right;\">\n",
       "      <th></th>\n",
       "      <th>Model Nmae</th>\n",
       "      <th>Coefficient of Variation</th>\n",
       "      <th>Root Mean Square Error</th>\n",
       "    </tr>\n",
       "  </thead>\n",
       "  <tbody>\n",
       "    <tr>\n",
       "      <th>0</th>\n",
       "      <td>Full Model</td>\n",
       "      <td>0.956307</td>\n",
       "      <td>0.207376</td>\n",
       "    </tr>\n",
       "    <tr>\n",
       "      <th>1</th>\n",
       "      <td>Full Model without Multicollinearity</td>\n",
       "      <td>0.947776</td>\n",
       "      <td>0.226719</td>\n",
       "    </tr>\n",
       "    <tr>\n",
       "      <th>2</th>\n",
       "      <td>Only Width</td>\n",
       "      <td>0.940626</td>\n",
       "      <td>0.241743</td>\n",
       "    </tr>\n",
       "    <tr>\n",
       "      <th>3</th>\n",
       "      <td>Forward Selection</td>\n",
       "      <td>0.956249</td>\n",
       "      <td>0.207515</td>\n",
       "    </tr>\n",
       "    <tr>\n",
       "      <th>4</th>\n",
       "      <td>Backward Elimination</td>\n",
       "      <td>0.956298</td>\n",
       "      <td>0.207397</td>\n",
       "    </tr>\n",
       "    <tr>\n",
       "      <th>5</th>\n",
       "      <td>MLR_model_rfe</td>\n",
       "      <td>0.956272</td>\n",
       "      <td>0.207460</td>\n",
       "    </tr>\n",
       "    <tr>\n",
       "      <th>6</th>\n",
       "      <td>RIDGE</td>\n",
       "      <td>0.956256</td>\n",
       "      <td>0.207497</td>\n",
       "    </tr>\n",
       "    <tr>\n",
       "      <th>7</th>\n",
       "      <td>SGD</td>\n",
       "      <td>0.951958</td>\n",
       "      <td>0.217453</td>\n",
       "    </tr>\n",
       "    <tr>\n",
       "      <th>8</th>\n",
       "      <td>LASSO</td>\n",
       "      <td>0.956315</td>\n",
       "      <td>0.207358</td>\n",
       "    </tr>\n",
       "    <tr>\n",
       "      <th>9</th>\n",
       "      <td>ELASTIC</td>\n",
       "      <td>0.956298</td>\n",
       "      <td>0.207398</td>\n",
       "    </tr>\n",
       "  </tbody>\n",
       "</table>\n",
       "</div>"
      ],
      "text/plain": [
       "                             Model Nmae  Coefficient of Variation  \\\n",
       "0                            Full Model                  0.956307   \n",
       "1  Full Model without Multicollinearity                  0.947776   \n",
       "2                            Only Width                  0.940626   \n",
       "3                     Forward Selection                  0.956249   \n",
       "4                  Backward Elimination                  0.956298   \n",
       "5                         MLR_model_rfe                  0.956272   \n",
       "6                                 RIDGE                  0.956256   \n",
       "7                                   SGD                  0.951958   \n",
       "8                                 LASSO                  0.956315   \n",
       "9                               ELASTIC                  0.956298   \n",
       "\n",
       "   Root Mean Square Error  \n",
       "0                0.207376  \n",
       "1                0.226719  \n",
       "2                0.241743  \n",
       "3                0.207515  \n",
       "4                0.207397  \n",
       "5                0.207460  \n",
       "6                0.207497  \n",
       "7                0.217453  \n",
       "8                0.207358  \n",
       "9                0.207398  "
      ]
     },
     "execution_count": 420,
     "metadata": {},
     "output_type": "execute_result"
    }
   ],
   "source": [
    "df = pd.DataFrame({'Model Nmae' : ['Full Model','Full Model without Multicollinearity','Only Width','Forward Selection','Backward Elimination','MLR_model_rfe','RIDGE','SGD','LASSO','ELASTIC'],\n",
    "                   'Coefficient of Variation' : [MLR_model_full_CD , MLR_model_full_WO_MC_CD , width_CD , FS_CD , BE_CD , linreg_rfe_CD , RIDGE_CD , SGD_CD , LASSO_CD , ELASTIC_CD],\n",
    "                   'Root Mean Square Error' :  [MLR_model_full_RMSE , MLR_model_full_WO_MC_RMSE , width_RMSE , FS_RMSE , BE_RMSE , linreg_rfe_RMSE , RIDGE_RMSE , SGD_RMSE , LASSO_RMSE , ELASTIC_RMSE]})\n",
    "df"
   ]
  },
  {
   "cell_type": "code",
   "execution_count": null,
   "metadata": {},
   "outputs": [],
   "source": []
  }
 ],
 "metadata": {
  "kernelspec": {
   "display_name": "Python 3",
   "language": "python",
   "name": "python3"
  },
  "language_info": {
   "codemirror_mode": {
    "name": "ipython",
    "version": 3
   },
   "file_extension": ".py",
   "mimetype": "text/x-python",
   "name": "python",
   "nbconvert_exporter": "python",
   "pygments_lexer": "ipython3",
   "version": "3.7.9"
  }
 },
 "nbformat": 4,
 "nbformat_minor": 2
}
